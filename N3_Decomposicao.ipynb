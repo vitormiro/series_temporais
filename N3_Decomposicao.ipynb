{
 "cells": [
  {
   "cell_type": "markdown",
   "metadata": {},
   "source": [
    "## Componentes de uma série temporal\n",
    "\n",
    "Conformeapresentamos no 1º Notebook, a primeira coisa a fazer em qualquer análise de dados é plotar os dados (Hyndman e Athanasopoulos, 2022). A análise gráfica permitem visualizar o comportamento dos dados ao longo do tempo e, em muitas situações, constitui a primeira ferramenta à disposição do analista para identificar padrões.\n",
    "\n",
    "\n",
    "Os componentes comuns na grande maioria das séries temporais são:\n",
    "\n",
    "**Tendência**\n",
    "> Uma tendência existe quando há um aumento ou diminuição de longo prazo nos dados. Não precisa ser linear. Às vezes, nos referimos a uma tendência como “mudança de direção”, quando ela pode passar de uma tendência crescente para uma tendência decrescente.\n",
    "\n",
    "**Sazonalidade**\n",
    "> Um padrão sazonal ocorre quando uma série temporal é afetada por fatores sazonais, como a época do ano ou o dia da semana. A sazonalidade é sempre de um período fixo e conhecido. \n",
    "\n",
    "**Cíclo**\n",
    "> Um ciclo ocorre quando os dados exibem subidas e descidas que não são de frequência fixa. Essas flutuações geralmente são devidas a condições econômicas e muitas vezes estão relacionadas ao “ciclo de negócios”. A duração dessas flutuações é geralmente de pelo menos 2 anos.\n",
    "Muitas pessoas confundem comportamento cíclico com comportamento sazonal, mas na verdade são bem diferentes. Se as flutuações não são de frequência fixa, então elas são cíclicas; se a frequência é imutável e associada a algum aspecto do calendário, então o padrão é sazonal. Em geral, a duração média dos ciclos é maior do que a duração de um padrão sazonal, e as magnitudes dos ciclos tendem a ser mais variáveis do que as magnitudes dos padrões sazonais.\n",
    "\n",
    "Muitas séries temporais incluem tendências, ciclos e sazonalidade. Ao escolher um método de previsão, primeiro precisaremos identificar os padrões de séries temporais nos dados e, em seguida, escolher um método capaz de capturar os padrões adequadamente."
   ]
  },
  {
   "cell_type": "code",
   "execution_count": null,
   "metadata": {},
   "outputs": [],
   "source": []
  }
 ],
 "metadata": {
  "kernelspec": {
   "display_name": "Python 3",
   "language": "python",
   "name": "python3"
  },
  "language_info": {
   "codemirror_mode": {
    "name": "ipython",
    "version": 3
   },
   "file_extension": ".py",
   "mimetype": "text/x-python",
   "name": "python",
   "nbconvert_exporter": "python",
   "pygments_lexer": "ipython3",
   "version": "3.7.6"
  }
 },
 "nbformat": 4,
 "nbformat_minor": 4
}
