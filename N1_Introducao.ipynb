{
 "cells": [
  {
   "cell_type": "markdown",
   "metadata": {},
   "source": [
    "# Séries Temporais\n",
    "\n",
    "\n",
    "Uma série temporal representa um registro ordenado no tempo de dados para uma variável de interesse (BOX et al., 2015). A análise desse tipo de informação é de fundamental importância em diversas áreas do conhecimento, com aplicações cada vez mais relevantes, uma vez que objetiva compreender o mecanismo gerador da série, diagnosticar o comportamento passado e permitir a previsão do comportamento futuro da variável.\n",
    "\n",
    "Uma referência para o início da análise de séries temporais como disciplina é a aplicação de modelos autorregressivos pelo físico e professor de estatística na Universidade de Cambridge, Udny Yule, na década de 1920. Mas foi a partir da década de 1970 que a análise de séries temporais ganhou o formato moderno que conhecemos atualmente (NIELSEN, 2019).\n",
    "\n",
    "O desenvolvimento dos métodos de análise de séries temporais desde a década de 1970 foi bastante influenciado pelo desenvolvimento da computação, que permitiu ampliar de forma significativa a coleta, armazenamento e processamento de informações. Esse desenvolvimento e o reconhecimento da importância de estudar séries temporais culminou em uma vasta literatura acadêmica e técnica.\n",
    "\n",
    "Os desenvolvimentos dos estatísticos britânicos George Box e Gwilym Jenkins resultaram no texto “Time Series Analysis: Forecasting and Control”, publicado pela primeira vez em 1970 e que representou um divisor de água na análise de séries temporais. A abordagem de Box-Jenkins ainda é bastante utilizada para gerar previsões de séries temporais.  Aliás, este livro continua popular e está agora em sua quinta edição (NIELSEN, 2019)."
   ]
  },
  {
   "cell_type": "markdown",
   "metadata": {},
   "source": [
    "## 1.1. Visualizando uma série temporal\n",
    "\n",
    "Conforme apontado por Hyndman e Athanasopoulos (2022), a primeira coisa a fazer em qualquer análise de dados é plotar os dados. Isso é particularmente importante no caso dos dados de séries temporais. Os gráficos permitem visualizar o comportamento dos dados ao longo do tempo,  e a identificação de padrões, observações incomuns, mudanças ao longo do tempo e relações entre variáveis. \n",
    "\n",
    "As características que são vistas nos gráficos devem ser consideradas no momento de avaliar qual método ou modelo é o mais apropriado para análisar aquela série.\n",
    "\n",
    "Para dados de séries temporais, o gráfico óbvio para começar é um gráfico de linha, da variável ou variáveis em análise em função do tempo, ou seja, as observações são plotadas em relação ao tempo com observações consecutivas."
   ]
  },
  {
   "cell_type": "markdown",
   "metadata": {},
   "source": [
    "No python, para iniciar nossa análise vamos importar as bibliotecas: *Numpy*, *Pandas* e o método *pyplot* da *Matplotlib*."
   ]
  },
  {
   "cell_type": "code",
   "execution_count": 1,
   "metadata": {},
   "outputs": [],
   "source": [
    "# Importar bibliotecas\n",
    "import numpy as np\n",
    "import pandas as pd\n",
    "import matplotlib.pyplot as plt"
   ]
  },
  {
   "cell_type": "markdown",
   "metadata": {},
   "source": [
    "Vamos abrir um conjunto de dados referente ao consumo mensal total de energia elétrica no Brasil.\n",
    "\n",
    "Os dados estão disponíveis no [Sistema Gerenciador de Séries Temporais (SGS)](https://www3.bcb.gov.br/sgspub/localizarseries/localizarSeries.do?method=prepararTelaLocalizarSeries) do Banco Central do Brasil, mas possuem como fonte original a Eletrobras."
   ]
  },
  {
   "cell_type": "code",
   "execution_count": 2,
   "metadata": {},
   "outputs": [],
   "source": [
    "# Caso esteja executando este notebook no Google Colab\n",
    "#from google.colab import files\n",
    "#arquivo = files.upload()"
   ]
  },
  {
   "cell_type": "code",
   "execution_count": 3,
   "metadata": {},
   "outputs": [],
   "source": [
    "# Importar dados\n",
    "df = pd.read_csv('dados/consumo_energia.csv', sep=';')"
   ]
  },
  {
   "cell_type": "code",
   "execution_count": 4,
   "metadata": {},
   "outputs": [
    {
     "name": "stdout",
     "output_type": "stream",
     "text": [
      "<class 'pandas.core.frame.DataFrame'>\n",
      "RangeIndex: 520 entries, 0 to 519\n",
      "Data columns (total 2 columns):\n",
      " #   Column                        Non-Null Count  Dtype  \n",
      "---  ------                        --------------  -----  \n",
      " 0   data                          520 non-null    object \n",
      " 1   consumo_energia_eletrica_GWh  520 non-null    float64\n",
      "dtypes: float64(1), object(1)\n",
      "memory usage: 8.2+ KB\n"
     ]
    }
   ],
   "source": [
    "# Informações dos dados\n",
    "df.info()"
   ]
  },
  {
   "cell_type": "markdown",
   "metadata": {},
   "source": [
    "Temos um objeto do tipo Data Frame (DF), com 2 colunas: 'data' e 'Consumo_energia_eletrica_GWh'.\n",
    "\n",
    "Os dados são constituídos de uma série temporal com 520 observações.\n",
    "\n",
    "Vamos usar as funções `head()` e `tail()` para visualizar as (5) primeiras e as (5) últimas observações da série."
   ]
  },
  {
   "cell_type": "code",
   "execution_count": 5,
   "metadata": {},
   "outputs": [
    {
     "name": "stdout",
     "output_type": "stream",
     "text": [
      "     data  consumo_energia_eletrica_GWh\n",
      "0  jan/79                         7.947\n",
      "1  fev/79                         7.859\n",
      "2  mar/79                         8.108\n",
      "3  abr/79                         8.138\n",
      "4  mai/79                         8.355\n",
      "       data  consumo_energia_eletrica_GWh\n",
      "515  dez/21                        42.937\n",
      "516  jan/22                        42.566\n",
      "517  fev/22                        41.929\n",
      "518  mar/22                        44.218\n",
      "519  abr/22                        43.123\n"
     ]
    }
   ],
   "source": [
    "# Visualizar dados no data frame\n",
    "print(df.head())\n",
    "print(df.tail())"
   ]
  },
  {
   "cell_type": "markdown",
   "metadata": {},
   "source": [
    "Temos dados referentes ao período de janeiro de 1979 até abril de 2022.\n",
    "\n",
    "Perceba que a variável `data` é um *object* e não está em um formato adequado para a análise. \n",
    "\n",
    "Vamos criar uma variável própria de tempo (`datetime64[ns]`), um formato adequado para a nossa análise."
   ]
  },
  {
   "cell_type": "code",
   "execution_count": 6,
   "metadata": {},
   "outputs": [
    {
     "data": {
      "text/html": [
       "<div>\n",
       "<style scoped>\n",
       "    .dataframe tbody tr th:only-of-type {\n",
       "        vertical-align: middle;\n",
       "    }\n",
       "\n",
       "    .dataframe tbody tr th {\n",
       "        vertical-align: top;\n",
       "    }\n",
       "\n",
       "    .dataframe thead th {\n",
       "        text-align: right;\n",
       "    }\n",
       "</style>\n",
       "<table border=\"1\" class=\"dataframe\">\n",
       "  <thead>\n",
       "    <tr style=\"text-align: right;\">\n",
       "      <th></th>\n",
       "      <th>data</th>\n",
       "      <th>consumo_energia_eletrica_GWh</th>\n",
       "      <th>mes_ano</th>\n",
       "    </tr>\n",
       "  </thead>\n",
       "  <tbody>\n",
       "    <tr>\n",
       "      <th>0</th>\n",
       "      <td>jan/79</td>\n",
       "      <td>7.947</td>\n",
       "      <td>1979-01-31</td>\n",
       "    </tr>\n",
       "    <tr>\n",
       "      <th>1</th>\n",
       "      <td>fev/79</td>\n",
       "      <td>7.859</td>\n",
       "      <td>1979-02-28</td>\n",
       "    </tr>\n",
       "    <tr>\n",
       "      <th>2</th>\n",
       "      <td>mar/79</td>\n",
       "      <td>8.108</td>\n",
       "      <td>1979-03-31</td>\n",
       "    </tr>\n",
       "    <tr>\n",
       "      <th>3</th>\n",
       "      <td>abr/79</td>\n",
       "      <td>8.138</td>\n",
       "      <td>1979-04-30</td>\n",
       "    </tr>\n",
       "    <tr>\n",
       "      <th>4</th>\n",
       "      <td>mai/79</td>\n",
       "      <td>8.355</td>\n",
       "      <td>1979-05-31</td>\n",
       "    </tr>\n",
       "  </tbody>\n",
       "</table>\n",
       "</div>"
      ],
      "text/plain": [
       "     data  consumo_energia_eletrica_GWh    mes_ano\n",
       "0  jan/79                         7.947 1979-01-31\n",
       "1  fev/79                         7.859 1979-02-28\n",
       "2  mar/79                         8.108 1979-03-31\n",
       "3  abr/79                         8.138 1979-04-30\n",
       "4  mai/79                         8.355 1979-05-31"
      ]
     },
     "execution_count": 6,
     "metadata": {},
     "output_type": "execute_result"
    }
   ],
   "source": [
    "# Criar uma variável DatetimeIndex com o método 'date_range()'\n",
    "df['mes_ano'] = pd.date_range(start='1979-01-01', end='2022-05-01', freq='M')\n",
    "\n",
    "# Visualizar primeiras (5) linhas\n",
    "df.head()"
   ]
  },
  {
   "cell_type": "code",
   "execution_count": 7,
   "metadata": {},
   "outputs": [
    {
     "data": {
      "text/html": [
       "<div>\n",
       "<style scoped>\n",
       "    .dataframe tbody tr th:only-of-type {\n",
       "        vertical-align: middle;\n",
       "    }\n",
       "\n",
       "    .dataframe tbody tr th {\n",
       "        vertical-align: top;\n",
       "    }\n",
       "\n",
       "    .dataframe thead th {\n",
       "        text-align: right;\n",
       "    }\n",
       "</style>\n",
       "<table border=\"1\" class=\"dataframe\">\n",
       "  <thead>\n",
       "    <tr style=\"text-align: right;\">\n",
       "      <th></th>\n",
       "      <th>data</th>\n",
       "      <th>consumo_energia_eletrica_GWh</th>\n",
       "      <th>mes_ano</th>\n",
       "    </tr>\n",
       "  </thead>\n",
       "  <tbody>\n",
       "    <tr>\n",
       "      <th>515</th>\n",
       "      <td>dez/21</td>\n",
       "      <td>42.937</td>\n",
       "      <td>2021-12-31</td>\n",
       "    </tr>\n",
       "    <tr>\n",
       "      <th>516</th>\n",
       "      <td>jan/22</td>\n",
       "      <td>42.566</td>\n",
       "      <td>2022-01-31</td>\n",
       "    </tr>\n",
       "    <tr>\n",
       "      <th>517</th>\n",
       "      <td>fev/22</td>\n",
       "      <td>41.929</td>\n",
       "      <td>2022-02-28</td>\n",
       "    </tr>\n",
       "    <tr>\n",
       "      <th>518</th>\n",
       "      <td>mar/22</td>\n",
       "      <td>44.218</td>\n",
       "      <td>2022-03-31</td>\n",
       "    </tr>\n",
       "    <tr>\n",
       "      <th>519</th>\n",
       "      <td>abr/22</td>\n",
       "      <td>43.123</td>\n",
       "      <td>2022-04-30</td>\n",
       "    </tr>\n",
       "  </tbody>\n",
       "</table>\n",
       "</div>"
      ],
      "text/plain": [
       "       data  consumo_energia_eletrica_GWh    mes_ano\n",
       "515  dez/21                        42.937 2021-12-31\n",
       "516  jan/22                        42.566 2022-01-31\n",
       "517  fev/22                        41.929 2022-02-28\n",
       "518  mar/22                        44.218 2022-03-31\n",
       "519  abr/22                        43.123 2022-04-30"
      ]
     },
     "execution_count": 7,
     "metadata": {},
     "output_type": "execute_result"
    }
   ],
   "source": [
    "# Visualizar últimas (5) linhas\n",
    "df.tail()"
   ]
  },
  {
   "cell_type": "markdown",
   "metadata": {},
   "source": [
    "Vamos converter a coluna `mes_ano`, que é `datetime64[ns]` como indice do *dataframe*, com o método `set_index`."
   ]
  },
  {
   "cell_type": "code",
   "execution_count": 8,
   "metadata": {},
   "outputs": [
    {
     "data": {
      "text/html": [
       "<div>\n",
       "<style scoped>\n",
       "    .dataframe tbody tr th:only-of-type {\n",
       "        vertical-align: middle;\n",
       "    }\n",
       "\n",
       "    .dataframe tbody tr th {\n",
       "        vertical-align: top;\n",
       "    }\n",
       "\n",
       "    .dataframe thead th {\n",
       "        text-align: right;\n",
       "    }\n",
       "</style>\n",
       "<table border=\"1\" class=\"dataframe\">\n",
       "  <thead>\n",
       "    <tr style=\"text-align: right;\">\n",
       "      <th></th>\n",
       "      <th>data</th>\n",
       "      <th>consumo_energia_eletrica_GWh</th>\n",
       "    </tr>\n",
       "    <tr>\n",
       "      <th>mes_ano</th>\n",
       "      <th></th>\n",
       "      <th></th>\n",
       "    </tr>\n",
       "  </thead>\n",
       "  <tbody>\n",
       "    <tr>\n",
       "      <th>1979-01-31</th>\n",
       "      <td>jan/79</td>\n",
       "      <td>7.947</td>\n",
       "    </tr>\n",
       "    <tr>\n",
       "      <th>1979-02-28</th>\n",
       "      <td>fev/79</td>\n",
       "      <td>7.859</td>\n",
       "    </tr>\n",
       "    <tr>\n",
       "      <th>1979-03-31</th>\n",
       "      <td>mar/79</td>\n",
       "      <td>8.108</td>\n",
       "    </tr>\n",
       "    <tr>\n",
       "      <th>1979-04-30</th>\n",
       "      <td>abr/79</td>\n",
       "      <td>8.138</td>\n",
       "    </tr>\n",
       "    <tr>\n",
       "      <th>1979-05-31</th>\n",
       "      <td>mai/79</td>\n",
       "      <td>8.355</td>\n",
       "    </tr>\n",
       "  </tbody>\n",
       "</table>\n",
       "</div>"
      ],
      "text/plain": [
       "              data  consumo_energia_eletrica_GWh\n",
       "mes_ano                                         \n",
       "1979-01-31  jan/79                         7.947\n",
       "1979-02-28  fev/79                         7.859\n",
       "1979-03-31  mar/79                         8.108\n",
       "1979-04-30  abr/79                         8.138\n",
       "1979-05-31  mai/79                         8.355"
      ]
     },
     "execution_count": 8,
     "metadata": {},
     "output_type": "execute_result"
    }
   ],
   "source": [
    "# Converter em indice\n",
    "df = df.set_index('mes_ano')\n",
    "df.head()"
   ]
  },
  {
   "cell_type": "markdown",
   "metadata": {},
   "source": [
    "A coluna `data` não será mais necessária na análise. Vamos excluí-la com o método `drop()`.\n",
    "\n",
    "Nesse método, além do nome da columa, devemos especificar o argumento *axis*: *axis = 1* (coluna) ou *axis = 0* (linha)."
   ]
  },
  {
   "cell_type": "code",
   "execution_count": 9,
   "metadata": {},
   "outputs": [
    {
     "data": {
      "text/html": [
       "<div>\n",
       "<style scoped>\n",
       "    .dataframe tbody tr th:only-of-type {\n",
       "        vertical-align: middle;\n",
       "    }\n",
       "\n",
       "    .dataframe tbody tr th {\n",
       "        vertical-align: top;\n",
       "    }\n",
       "\n",
       "    .dataframe thead th {\n",
       "        text-align: right;\n",
       "    }\n",
       "</style>\n",
       "<table border=\"1\" class=\"dataframe\">\n",
       "  <thead>\n",
       "    <tr style=\"text-align: right;\">\n",
       "      <th></th>\n",
       "      <th>consumo_energia_eletrica_GWh</th>\n",
       "    </tr>\n",
       "    <tr>\n",
       "      <th>mes_ano</th>\n",
       "      <th></th>\n",
       "    </tr>\n",
       "  </thead>\n",
       "  <tbody>\n",
       "    <tr>\n",
       "      <th>1979-01-31</th>\n",
       "      <td>7.947</td>\n",
       "    </tr>\n",
       "    <tr>\n",
       "      <th>1979-02-28</th>\n",
       "      <td>7.859</td>\n",
       "    </tr>\n",
       "    <tr>\n",
       "      <th>1979-03-31</th>\n",
       "      <td>8.108</td>\n",
       "    </tr>\n",
       "    <tr>\n",
       "      <th>1979-04-30</th>\n",
       "      <td>8.138</td>\n",
       "    </tr>\n",
       "    <tr>\n",
       "      <th>1979-05-31</th>\n",
       "      <td>8.355</td>\n",
       "    </tr>\n",
       "  </tbody>\n",
       "</table>\n",
       "</div>"
      ],
      "text/plain": [
       "            consumo_energia_eletrica_GWh\n",
       "mes_ano                                 \n",
       "1979-01-31                         7.947\n",
       "1979-02-28                         7.859\n",
       "1979-03-31                         8.108\n",
       "1979-04-30                         8.138\n",
       "1979-05-31                         8.355"
      ]
     },
     "execution_count": 9,
     "metadata": {},
     "output_type": "execute_result"
    }
   ],
   "source": [
    "# Excluir \n",
    "df = df.drop('data', axis=1)\n",
    "df.head()"
   ]
  },
  {
   "cell_type": "code",
   "execution_count": 10,
   "metadata": {},
   "outputs": [
    {
     "data": {
      "image/png": "[encoded data removed]",
      "text/plain": [
       "<Figure size 432x288 with 1 Axes>"
      ]
     },
     "metadata": {
      "needs_background": "light"
     },
     "output_type": "display_data"
    }
   ],
   "source": [
    "# Plotar dos dados\n",
    "ax = df['consumo_energia_eletrica_GWh'].plot(color='blue')\n",
    "# Especificar título para o eixo y (PIB)\n",
    "ax.set_title('Consumo de energia elétrica no Brasil (1979-2022)')\n",
    "# Especificar um tótulo para o eixo x\n",
    "ax.set_xlabel('data')\n",
    "# Especificar um tótulo para o eixo y (PIB)\n",
    "ax.set_ylabel('GWh / mês')\n",
    "# Mostrar gráfico\n",
    "plt.show()"
   ]
  },
  {
   "cell_type": "markdown",
   "metadata": {},
   "source": [
    "## 1.2. Algumas operações básicas na análise de séries temporais"
   ]
  },
  {
   "cell_type": "markdown",
   "metadata": {},
   "source": [
    "**Selecionar períodos**\n",
    "\n",
    "Podemos selecionar subconjuntos da série usando técnicas de fatiamento (\"slicing\")."
   ]
  },
  {
   "cell_type": "code",
   "execution_count": 11,
   "metadata": {},
   "outputs": [
    {
     "name": "stdout",
     "output_type": "stream",
     "text": [
      "            consumo_energia_eletrica_GWh\n",
      "mes_ano                                 \n",
      "2003-01-31                        25.152\n",
      "2003-02-28                        24.965\n",
      "2003-03-31                        25.281\n",
      "2003-04-30                        24.787\n",
      "2003-05-31                        24.889\n",
      "            consumo_energia_eletrica_GWh\n",
      "mes_ano                                 \n",
      "2021-08-31                        40.629\n",
      "2021-09-30                        41.985\n",
      "2021-10-31                        42.622\n",
      "2021-11-30                        41.932\n",
      "2021-12-31                        42.937\n"
     ]
    }
   ],
   "source": [
    "# \"Fatiar\" um subconjunto: janeiro de 2003 até dezembro de 2021\n",
    "df2 = df[\"2003-1\" : \"2021-12\"]\n",
    "print(df2.head())\n",
    "print(df2.tail())"
   ]
  },
  {
   "cell_type": "code",
   "execution_count": 12,
   "metadata": {},
   "outputs": [
    {
     "data": {
      "image/png": "[encoded data removed]",
      "text/plain": [
       "<Figure size 432x288 with 1 Axes>"
      ]
     },
     "metadata": {
      "needs_background": "light"
     },
     "output_type": "display_data"
    }
   ],
   "source": [
    "# Plotar dos dados\n",
    "ax = df2['consumo_energia_eletrica_GWh'].plot(color='blue')\n",
    "# Especificar título para o eixo y (PIB)\n",
    "ax.set_title('Consumo de energia elétrica no Brasil (2003-2022)')\n",
    "# Especificar um tótulo para o eixo x\n",
    "ax.set_xlabel('data')\n",
    "# Especificar um tótulo para o eixo y (PIB)\n",
    "ax.set_ylabel('GWh / mês')\n",
    "# Mostrar gráfico\n",
    "plt.show()"
   ]
  },
  {
   "cell_type": "markdown",
   "metadata": {},
   "source": [
    "**Deslocamentos**\n",
    "\n",
    "Com o método `shift()` é criar uma nova coluna com os valores de uma variável deslocados por número desejado de períodos.\n",
    "\n",
    "https://pandas.pydata.org/docs/reference/api/pandas.DataFrame.shift.html\n"
   ]
  },
  {
   "cell_type": "code",
   "execution_count": 13,
   "metadata": {},
   "outputs": [
    {
     "data": {
      "text/html": [
       "<div>\n",
       "<style scoped>\n",
       "    .dataframe tbody tr th:only-of-type {\n",
       "        vertical-align: middle;\n",
       "    }\n",
       "\n",
       "    .dataframe tbody tr th {\n",
       "        vertical-align: top;\n",
       "    }\n",
       "\n",
       "    .dataframe thead th {\n",
       "        text-align: right;\n",
       "    }\n",
       "</style>\n",
       "<table border=\"1\" class=\"dataframe\">\n",
       "  <thead>\n",
       "    <tr style=\"text-align: right;\">\n",
       "      <th></th>\n",
       "      <th>consumo_energia_eletrica_GWh</th>\n",
       "      <th>shift1</th>\n",
       "      <th>shift1m</th>\n",
       "    </tr>\n",
       "    <tr>\n",
       "      <th>mes_ano</th>\n",
       "      <th></th>\n",
       "      <th></th>\n",
       "      <th></th>\n",
       "    </tr>\n",
       "  </thead>\n",
       "  <tbody>\n",
       "    <tr>\n",
       "      <th>1979-01-31</th>\n",
       "      <td>7.947</td>\n",
       "      <td>NaN</td>\n",
       "      <td>7.859</td>\n",
       "    </tr>\n",
       "    <tr>\n",
       "      <th>1979-02-28</th>\n",
       "      <td>7.859</td>\n",
       "      <td>7.947</td>\n",
       "      <td>8.108</td>\n",
       "    </tr>\n",
       "    <tr>\n",
       "      <th>1979-03-31</th>\n",
       "      <td>8.108</td>\n",
       "      <td>7.859</td>\n",
       "      <td>8.138</td>\n",
       "    </tr>\n",
       "    <tr>\n",
       "      <th>1979-04-30</th>\n",
       "      <td>8.138</td>\n",
       "      <td>8.108</td>\n",
       "      <td>8.355</td>\n",
       "    </tr>\n",
       "    <tr>\n",
       "      <th>1979-05-31</th>\n",
       "      <td>8.355</td>\n",
       "      <td>8.138</td>\n",
       "      <td>8.379</td>\n",
       "    </tr>\n",
       "  </tbody>\n",
       "</table>\n",
       "</div>"
      ],
      "text/plain": [
       "            consumo_energia_eletrica_GWh  shift1  shift1m\n",
       "mes_ano                                                  \n",
       "1979-01-31                         7.947     NaN    7.859\n",
       "1979-02-28                         7.859   7.947    8.108\n",
       "1979-03-31                         8.108   7.859    8.138\n",
       "1979-04-30                         8.138   8.108    8.355\n",
       "1979-05-31                         8.355   8.138    8.379"
      ]
     },
     "execution_count": 13,
     "metadata": {},
     "output_type": "execute_result"
    }
   ],
   "source": [
    "# Deslocar um período \"para frente\" \n",
    "df['shift1'] = df['consumo_energia_eletrica_GWh'].shift(1)\n",
    "# Deslocar um período \"para trás\" (uma defasagem)\n",
    "df['shift1m'] = df['consumo_energia_eletrica_GWh'].shift(-1)\n",
    "# Ver o resultado\n",
    "df.head()"
   ]
  },
  {
   "cell_type": "markdown",
   "metadata": {},
   "source": [
    "**Diferença**\n",
    "\n",
    "O método `diff()` é essencial na análise de séries temporais. Ele retorna uma nova coluna com difenças entre valores de dois períodos especificados.\n",
    "\n",
    "https://pandas.pydata.org/docs/reference/api/pandas.DataFrame.diff.html"
   ]
  },
  {
   "cell_type": "code",
   "execution_count": 14,
   "metadata": {},
   "outputs": [
    {
     "data": {
      "text/html": [
       "<div>\n",
       "<style scoped>\n",
       "    .dataframe tbody tr th:only-of-type {\n",
       "        vertical-align: middle;\n",
       "    }\n",
       "\n",
       "    .dataframe tbody tr th {\n",
       "        vertical-align: top;\n",
       "    }\n",
       "\n",
       "    .dataframe thead th {\n",
       "        text-align: right;\n",
       "    }\n",
       "</style>\n",
       "<table border=\"1\" class=\"dataframe\">\n",
       "  <thead>\n",
       "    <tr style=\"text-align: right;\">\n",
       "      <th></th>\n",
       "      <th>consumo_energia_eletrica_GWh</th>\n",
       "      <th>shift1</th>\n",
       "      <th>shift1m</th>\n",
       "      <th>diff1</th>\n",
       "      <th>diff3</th>\n",
       "    </tr>\n",
       "    <tr>\n",
       "      <th>mes_ano</th>\n",
       "      <th></th>\n",
       "      <th></th>\n",
       "      <th></th>\n",
       "      <th></th>\n",
       "      <th></th>\n",
       "    </tr>\n",
       "  </thead>\n",
       "  <tbody>\n",
       "    <tr>\n",
       "      <th>1979-01-31</th>\n",
       "      <td>7.947</td>\n",
       "      <td>NaN</td>\n",
       "      <td>7.859</td>\n",
       "      <td>NaN</td>\n",
       "      <td>NaN</td>\n",
       "    </tr>\n",
       "    <tr>\n",
       "      <th>1979-02-28</th>\n",
       "      <td>7.859</td>\n",
       "      <td>7.947</td>\n",
       "      <td>8.108</td>\n",
       "      <td>-0.088</td>\n",
       "      <td>NaN</td>\n",
       "    </tr>\n",
       "    <tr>\n",
       "      <th>1979-03-31</th>\n",
       "      <td>8.108</td>\n",
       "      <td>7.859</td>\n",
       "      <td>8.138</td>\n",
       "      <td>0.249</td>\n",
       "      <td>NaN</td>\n",
       "    </tr>\n",
       "    <tr>\n",
       "      <th>1979-04-30</th>\n",
       "      <td>8.138</td>\n",
       "      <td>8.108</td>\n",
       "      <td>8.355</td>\n",
       "      <td>0.030</td>\n",
       "      <td>0.191</td>\n",
       "    </tr>\n",
       "    <tr>\n",
       "      <th>1979-05-31</th>\n",
       "      <td>8.355</td>\n",
       "      <td>8.138</td>\n",
       "      <td>8.379</td>\n",
       "      <td>0.217</td>\n",
       "      <td>0.496</td>\n",
       "    </tr>\n",
       "  </tbody>\n",
       "</table>\n",
       "</div>"
      ],
      "text/plain": [
       "            consumo_energia_eletrica_GWh  shift1  shift1m  diff1  diff3\n",
       "mes_ano                                                                \n",
       "1979-01-31                         7.947     NaN    7.859    NaN    NaN\n",
       "1979-02-28                         7.859   7.947    8.108 -0.088    NaN\n",
       "1979-03-31                         8.108   7.859    8.138  0.249    NaN\n",
       "1979-04-30                         8.138   8.108    8.355  0.030  0.191\n",
       "1979-05-31                         8.355   8.138    8.379  0.217  0.496"
      ]
     },
     "execution_count": 14,
     "metadata": {},
     "output_type": "execute_result"
    }
   ],
   "source": [
    "# Calcular diferença: y(t) - y(t-1)\n",
    "df['diff1'] = df['consumo_energia_eletrica_GWh'].diff(1)\n",
    "# Calcular diferença: y(t) - y(t-3)\n",
    "df['diff3'] = df['consumo_energia_eletrica_GWh'].diff(3)\n",
    "# Ver o resultado\n",
    "df.head()"
   ]
  },
  {
   "cell_type": "markdown",
   "metadata": {},
   "source": [
    "**Variação percentual**\n",
    "\n",
    "A variação relativa (e percentual) de uma variável, em um determinado intervalo de tempo, pode ser calculada com o método `pct_change()`.\n",
    "Podemos multiplicar o resultado do método por 100, para que a nova variável esteja em forma percentual.\n",
    "\n",
    "https://pandas.pydata.org/docs/reference/api/pandas.DataFrame.pct_change.html"
   ]
  },
  {
   "cell_type": "code",
   "execution_count": 15,
   "metadata": {},
   "outputs": [
    {
     "data": {
      "text/html": [
       "<div>\n",
       "<style scoped>\n",
       "    .dataframe tbody tr th:only-of-type {\n",
       "        vertical-align: middle;\n",
       "    }\n",
       "\n",
       "    .dataframe tbody tr th {\n",
       "        vertical-align: top;\n",
       "    }\n",
       "\n",
       "    .dataframe thead th {\n",
       "        text-align: right;\n",
       "    }\n",
       "</style>\n",
       "<table border=\"1\" class=\"dataframe\">\n",
       "  <thead>\n",
       "    <tr style=\"text-align: right;\">\n",
       "      <th></th>\n",
       "      <th>consumo_energia_eletrica_GWh</th>\n",
       "      <th>shift1</th>\n",
       "      <th>shift1m</th>\n",
       "      <th>diff1</th>\n",
       "      <th>diff3</th>\n",
       "      <th>pct1</th>\n",
       "      <th>pct3</th>\n",
       "    </tr>\n",
       "    <tr>\n",
       "      <th>mes_ano</th>\n",
       "      <th></th>\n",
       "      <th></th>\n",
       "      <th></th>\n",
       "      <th></th>\n",
       "      <th></th>\n",
       "      <th></th>\n",
       "      <th></th>\n",
       "    </tr>\n",
       "  </thead>\n",
       "  <tbody>\n",
       "    <tr>\n",
       "      <th>1979-01-31</th>\n",
       "      <td>7.947</td>\n",
       "      <td>NaN</td>\n",
       "      <td>7.859</td>\n",
       "      <td>NaN</td>\n",
       "      <td>NaN</td>\n",
       "      <td>NaN</td>\n",
       "      <td>NaN</td>\n",
       "    </tr>\n",
       "    <tr>\n",
       "      <th>1979-02-28</th>\n",
       "      <td>7.859</td>\n",
       "      <td>7.947</td>\n",
       "      <td>8.108</td>\n",
       "      <td>-0.088</td>\n",
       "      <td>NaN</td>\n",
       "      <td>-1.107336</td>\n",
       "      <td>NaN</td>\n",
       "    </tr>\n",
       "    <tr>\n",
       "      <th>1979-03-31</th>\n",
       "      <td>8.108</td>\n",
       "      <td>7.859</td>\n",
       "      <td>8.138</td>\n",
       "      <td>0.249</td>\n",
       "      <td>NaN</td>\n",
       "      <td>3.168342</td>\n",
       "      <td>NaN</td>\n",
       "    </tr>\n",
       "    <tr>\n",
       "      <th>1979-04-30</th>\n",
       "      <td>8.138</td>\n",
       "      <td>8.108</td>\n",
       "      <td>8.355</td>\n",
       "      <td>0.030</td>\n",
       "      <td>0.191</td>\n",
       "      <td>0.370005</td>\n",
       "      <td>2.403423</td>\n",
       "    </tr>\n",
       "    <tr>\n",
       "      <th>1979-05-31</th>\n",
       "      <td>8.355</td>\n",
       "      <td>8.138</td>\n",
       "      <td>8.379</td>\n",
       "      <td>0.217</td>\n",
       "      <td>0.496</td>\n",
       "      <td>2.666503</td>\n",
       "      <td>6.311236</td>\n",
       "    </tr>\n",
       "  </tbody>\n",
       "</table>\n",
       "</div>"
      ],
      "text/plain": [
       "            consumo_energia_eletrica_GWh  shift1  shift1m  diff1  diff3  \\\n",
       "mes_ano                                                                   \n",
       "1979-01-31                         7.947     NaN    7.859    NaN    NaN   \n",
       "1979-02-28                         7.859   7.947    8.108 -0.088    NaN   \n",
       "1979-03-31                         8.108   7.859    8.138  0.249    NaN   \n",
       "1979-04-30                         8.138   8.108    8.355  0.030  0.191   \n",
       "1979-05-31                         8.355   8.138    8.379  0.217  0.496   \n",
       "\n",
       "                pct1      pct3  \n",
       "mes_ano                         \n",
       "1979-01-31       NaN       NaN  \n",
       "1979-02-28 -1.107336       NaN  \n",
       "1979-03-31  3.168342       NaN  \n",
       "1979-04-30  0.370005  2.403423  \n",
       "1979-05-31  2.666503  6.311236  "
      ]
     },
     "execution_count": 15,
     "metadata": {},
     "output_type": "execute_result"
    }
   ],
   "source": [
    "# Calcular variação % entre (t) e (t-1)\n",
    "df['pct1'] = df['consumo_energia_eletrica_GWh'].pct_change(1) *100\n",
    "# Calcular variação % entre (t) e (t-3)\n",
    "df['pct3'] = df['consumo_energia_eletrica_GWh'].pct_change(3) *100\n",
    "# Ver o resultado\n",
    "df.head()"
   ]
  },
  {
   "cell_type": "markdown",
   "metadata": {},
   "source": [
    "**Funções de janela e cálculo de médias móveis**\n",
    "\n",
    "As funções de janela são úteis quando queremos executar alguma operação em subconjuntos dos dados. Uma janela pode ser definida como um subconjunto de linhas do DF, em que desejamos aplicar alguma operação.\n",
    "\n",
    "Funções de janela \"móvel\" ou \"rolante\" permitem executar operações de uma forma mais dinâmica, a cada intervalo de valores especificados.\n",
    "\n",
    "Depois de definir uma janela, podemos realizar operações como calcular totais e médias móveis, por exemplo.\n",
    "\n",
    "https://pandas.pydata.org/docs/reference/api/pandas.DataFrame.rolling.html"
   ]
  },
  {
   "cell_type": "markdown",
   "metadata": {},
   "source": [
    "Vamos aplicar esse tipo de método para o cálculo de médias móveis.\n",
    "\n",
    "- Como temos dados mensais, vamos calcular média móveis para \"janelas\" de 12 meses."
   ]
  },
  {
   "cell_type": "code",
   "execution_count": 16,
   "metadata": {},
   "outputs": [
    {
     "data": {
      "text/html": [
       "<div>\n",
       "<style scoped>\n",
       "    .dataframe tbody tr th:only-of-type {\n",
       "        vertical-align: middle;\n",
       "    }\n",
       "\n",
       "    .dataframe tbody tr th {\n",
       "        vertical-align: top;\n",
       "    }\n",
       "\n",
       "    .dataframe thead th {\n",
       "        text-align: right;\n",
       "    }\n",
       "</style>\n",
       "<table border=\"1\" class=\"dataframe\">\n",
       "  <thead>\n",
       "    <tr style=\"text-align: right;\">\n",
       "      <th></th>\n",
       "      <th>consumo_energia_eletrica_GWh</th>\n",
       "      <th>shift1</th>\n",
       "      <th>shift1m</th>\n",
       "      <th>diff1</th>\n",
       "      <th>diff3</th>\n",
       "      <th>pct1</th>\n",
       "      <th>pct3</th>\n",
       "      <th>mm_12</th>\n",
       "    </tr>\n",
       "    <tr>\n",
       "      <th>mes_ano</th>\n",
       "      <th></th>\n",
       "      <th></th>\n",
       "      <th></th>\n",
       "      <th></th>\n",
       "      <th></th>\n",
       "      <th></th>\n",
       "      <th></th>\n",
       "      <th></th>\n",
       "    </tr>\n",
       "  </thead>\n",
       "  <tbody>\n",
       "    <tr>\n",
       "      <th>2021-05-31</th>\n",
       "      <td>40.351</td>\n",
       "      <td>42.432</td>\n",
       "      <td>40.179</td>\n",
       "      <td>-2.081</td>\n",
       "      <td>-0.903</td>\n",
       "      <td>-4.904317</td>\n",
       "      <td>-2.188879</td>\n",
       "      <td>40.664500</td>\n",
       "    </tr>\n",
       "    <tr>\n",
       "      <th>2021-06-30</th>\n",
       "      <td>40.179</td>\n",
       "      <td>40.351</td>\n",
       "      <td>39.941</td>\n",
       "      <td>-0.172</td>\n",
       "      <td>-3.237</td>\n",
       "      <td>-0.426260</td>\n",
       "      <td>-7.455777</td>\n",
       "      <td>41.043583</td>\n",
       "    </tr>\n",
       "    <tr>\n",
       "      <th>2021-07-31</th>\n",
       "      <td>39.941</td>\n",
       "      <td>40.179</td>\n",
       "      <td>40.629</td>\n",
       "      <td>-0.238</td>\n",
       "      <td>-2.491</td>\n",
       "      <td>-0.592349</td>\n",
       "      <td>-5.870569</td>\n",
       "      <td>41.229083</td>\n",
       "    </tr>\n",
       "    <tr>\n",
       "      <th>2021-08-31</th>\n",
       "      <td>40.629</td>\n",
       "      <td>39.941</td>\n",
       "      <td>41.985</td>\n",
       "      <td>0.688</td>\n",
       "      <td>0.278</td>\n",
       "      <td>1.722541</td>\n",
       "      <td>0.688954</td>\n",
       "      <td>41.354667</td>\n",
       "    </tr>\n",
       "    <tr>\n",
       "      <th>2021-09-30</th>\n",
       "      <td>41.985</td>\n",
       "      <td>40.629</td>\n",
       "      <td>42.622</td>\n",
       "      <td>1.356</td>\n",
       "      <td>1.806</td>\n",
       "      <td>3.337518</td>\n",
       "      <td>4.494885</td>\n",
       "      <td>41.501167</td>\n",
       "    </tr>\n",
       "    <tr>\n",
       "      <th>2021-10-31</th>\n",
       "      <td>42.622</td>\n",
       "      <td>41.985</td>\n",
       "      <td>41.932</td>\n",
       "      <td>0.637</td>\n",
       "      <td>2.681</td>\n",
       "      <td>1.517209</td>\n",
       "      <td>6.712401</td>\n",
       "      <td>41.517500</td>\n",
       "    </tr>\n",
       "    <tr>\n",
       "      <th>2021-11-30</th>\n",
       "      <td>41.932</td>\n",
       "      <td>42.622</td>\n",
       "      <td>42.937</td>\n",
       "      <td>-0.690</td>\n",
       "      <td>1.303</td>\n",
       "      <td>-1.618882</td>\n",
       "      <td>3.207069</td>\n",
       "      <td>41.596333</td>\n",
       "    </tr>\n",
       "    <tr>\n",
       "      <th>2021-12-31</th>\n",
       "      <td>42.937</td>\n",
       "      <td>41.932</td>\n",
       "      <td>42.566</td>\n",
       "      <td>1.005</td>\n",
       "      <td>0.952</td>\n",
       "      <td>2.396738</td>\n",
       "      <td>2.267476</td>\n",
       "      <td>41.684083</td>\n",
       "    </tr>\n",
       "    <tr>\n",
       "      <th>2022-01-31</th>\n",
       "      <td>42.566</td>\n",
       "      <td>42.937</td>\n",
       "      <td>41.929</td>\n",
       "      <td>-0.371</td>\n",
       "      <td>-0.056</td>\n",
       "      <td>-0.864057</td>\n",
       "      <td>-0.131388</td>\n",
       "      <td>41.687000</td>\n",
       "    </tr>\n",
       "    <tr>\n",
       "      <th>2022-02-28</th>\n",
       "      <td>41.929</td>\n",
       "      <td>42.566</td>\n",
       "      <td>44.218</td>\n",
       "      <td>-0.637</td>\n",
       "      <td>-0.003</td>\n",
       "      <td>-1.496500</td>\n",
       "      <td>-0.007154</td>\n",
       "      <td>41.743250</td>\n",
       "    </tr>\n",
       "    <tr>\n",
       "      <th>2022-03-31</th>\n",
       "      <td>44.218</td>\n",
       "      <td>41.929</td>\n",
       "      <td>43.123</td>\n",
       "      <td>2.289</td>\n",
       "      <td>1.281</td>\n",
       "      <td>5.459229</td>\n",
       "      <td>2.983441</td>\n",
       "      <td>41.810083</td>\n",
       "    </tr>\n",
       "    <tr>\n",
       "      <th>2022-04-30</th>\n",
       "      <td>43.123</td>\n",
       "      <td>44.218</td>\n",
       "      <td>NaN</td>\n",
       "      <td>-1.095</td>\n",
       "      <td>0.557</td>\n",
       "      <td>-2.476367</td>\n",
       "      <td>1.308556</td>\n",
       "      <td>41.867667</td>\n",
       "    </tr>\n",
       "  </tbody>\n",
       "</table>\n",
       "</div>"
      ],
      "text/plain": [
       "            consumo_energia_eletrica_GWh  shift1  shift1m  diff1  diff3  \\\n",
       "mes_ano                                                                   \n",
       "2021-05-31                        40.351  42.432   40.179 -2.081 -0.903   \n",
       "2021-06-30                        40.179  40.351   39.941 -0.172 -3.237   \n",
       "2021-07-31                        39.941  40.179   40.629 -0.238 -2.491   \n",
       "2021-08-31                        40.629  39.941   41.985  0.688  0.278   \n",
       "2021-09-30                        41.985  40.629   42.622  1.356  1.806   \n",
       "2021-10-31                        42.622  41.985   41.932  0.637  2.681   \n",
       "2021-11-30                        41.932  42.622   42.937 -0.690  1.303   \n",
       "2021-12-31                        42.937  41.932   42.566  1.005  0.952   \n",
       "2022-01-31                        42.566  42.937   41.929 -0.371 -0.056   \n",
       "2022-02-28                        41.929  42.566   44.218 -0.637 -0.003   \n",
       "2022-03-31                        44.218  41.929   43.123  2.289  1.281   \n",
       "2022-04-30                        43.123  44.218      NaN -1.095  0.557   \n",
       "\n",
       "                pct1      pct3      mm_12  \n",
       "mes_ano                                    \n",
       "2021-05-31 -4.904317 -2.188879  40.664500  \n",
       "2021-06-30 -0.426260 -7.455777  41.043583  \n",
       "2021-07-31 -0.592349 -5.870569  41.229083  \n",
       "2021-08-31  1.722541  0.688954  41.354667  \n",
       "2021-09-30  3.337518  4.494885  41.501167  \n",
       "2021-10-31  1.517209  6.712401  41.517500  \n",
       "2021-11-30 -1.618882  3.207069  41.596333  \n",
       "2021-12-31  2.396738  2.267476  41.684083  \n",
       "2022-01-31 -0.864057 -0.131388  41.687000  \n",
       "2022-02-28 -1.496500 -0.007154  41.743250  \n",
       "2022-03-31  5.459229  2.983441  41.810083  \n",
       "2022-04-30 -2.476367  1.308556  41.867667  "
      ]
     },
     "execution_count": 16,
     "metadata": {},
     "output_type": "execute_result"
    }
   ],
   "source": [
    "# Calcular média móvel de 12 meses\n",
    "df['mm_12'] = df['consumo_energia_eletrica_GWh'].rolling(12).mean()\n",
    "# Ver o resultado\n",
    "df.tail(12)"
   ]
  },
  {
   "cell_type": "markdown",
   "metadata": {},
   "source": [
    "Vamos aproveitar esse resultado para plotar um gráfico com a série original e média móvel."
   ]
  },
  {
   "cell_type": "code",
   "execution_count": 17,
   "metadata": {},
   "outputs": [
    {
     "data": {
      "image/png": "[encoded data removed]",
      "text/plain": [
       "<Figure size 720x432 with 1 Axes>"
      ]
     },
     "metadata": {
      "needs_background": "light"
     },
     "output_type": "display_data"
    }
   ],
   "source": [
    "# Plotar dos dados\n",
    "fig, ax = plt.subplots(figsize=(10,6))\n",
    "\n",
    "ax.plot(df['consumo_energia_eletrica_GWh'], color='blue', label=\"Consumo mensal\")\n",
    "ax.plot(df['mm_12'], color='red', label=\"Média móvel (12 meses)\")\n",
    "\n",
    "# Especificar título para o eixo y (PIB)\n",
    "ax.set_title('Consumo de energia elétrica no Brasil (1979-2022)')\n",
    "# Especificar um tótulo para o eixo x\n",
    "ax.set_xlabel('data')\n",
    "# Especificar um tótulo para o eixo y (PIB)\n",
    "ax.set_ylabel('GWh / mês')\n",
    "# Inserir legenda\n",
    "ax.legend(loc='best')\n",
    "# Mostrar gráfico\n",
    "plt.show()"
   ]
  }
 ],
 "metadata": {
  "kernelspec": {
   "display_name": "Python 3",
   "language": "python",
   "name": "python3"
  },
  "language_info": {
   "codemirror_mode": {
    "name": "ipython",
    "version": 3
   },
   "file_extension": ".py",
   "mimetype": "text/x-python",
   "name": "python",
   "nbconvert_exporter": "python",
   "pygments_lexer": "ipython3",
   "version": "3.7.6"
  }
 },
 "nbformat": 4,
 "nbformat_minor": 4
}
