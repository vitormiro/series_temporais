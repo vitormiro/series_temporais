{
 "cells": [
  {
   "cell_type": "markdown",
   "metadata": {},
   "source": [
    "# Ajustes e transformações\n",
    "\n",
    "Hyndman e Athanasopoulos (2022) argumentam que ajustes aos dados temporais podem ser úteis ao simplificar padrões, remover fontes de variação e tornar a série mais consistente em todo o conjunto de dados. A justificativa é que, de modo geral, padrões mais simples são mais fáceis de modelar e levam a previsões mais precisas.\n",
    "\n",
    "Da mesma forma que estes autores, vamos lidar aqui com quatro tipos de ajustes:\n",
    "- ajustes de calendário, \n",
    "- ajustes de população, \n",
    "- ajustes de inflação e \n",
    "- transformações matemáticas.\n"
   ]
  },
  {
   "cell_type": "markdown",
   "metadata": {},
   "source": [
    "Vamos começar usando a mesma série de dados de consumo de energia elétrica."
   ]
  },
  {
   "cell_type": "code",
   "execution_count": 3,
   "metadata": {},
   "outputs": [],
   "source": [
    "# Importar bibliotecas\n",
    "import numpy as np\n",
    "import pandas as pd\n",
    "import matplotlib.pyplot as plt\n",
    "\n",
    "# Aqui também vamos importar a biblioteca seaborn\n",
    "import seaborn as sns"
   ]
  },
  {
   "cell_type": "code",
   "execution_count": 4,
   "metadata": {},
   "outputs": [],
   "source": [
    "# Importar dados\n",
    "\n",
    "# Caso esteja executando este notebook no Google Colab\n",
    "#from google.colab import files\n",
    "#arquivo = files.upload()\n",
    "\n",
    "df = pd.read_csv('dados/consumo_energia_2.csv')"
   ]
  },
  {
   "cell_type": "code",
   "execution_count": 5,
   "metadata": {},
   "outputs": [
    {
     "name": "stdout",
     "output_type": "stream",
     "text": [
      "<class 'pandas.core.frame.DataFrame'>\n",
      "RangeIndex: 228 entries, 0 to 227\n",
      "Data columns (total 2 columns):\n",
      " #   Column                        Non-Null Count  Dtype  \n",
      "---  ------                        --------------  -----  \n",
      " 0   mes_ano                       228 non-null    object \n",
      " 1   consumo_energia_eletrica_GWh  228 non-null    float64\n",
      "dtypes: float64(1), object(1)\n",
      "memory usage: 3.7+ KB\n"
     ]
    }
   ],
   "source": [
    "# Ver informações básicas dos dados\n",
    "df.info()"
   ]
  },
  {
   "cell_type": "code",
   "execution_count": 6,
   "metadata": {},
   "outputs": [],
   "source": [
    "# Definir variável 'datetime'\n",
    "df['mes_ano'] = pd.to_datetime(df['mes_ano'])\n",
    "# Definir variável de tempo como indice\n",
    "df = df.set_index('mes_ano')"
   ]
  },
  {
   "cell_type": "code",
   "execution_count": 7,
   "metadata": {},
   "outputs": [
    {
     "name": "stdout",
     "output_type": "stream",
     "text": [
      "            consumo_energia_eletrica_GWh\n",
      "mes_ano                                 \n",
      "2003-01-31                        25.152\n",
      "2003-02-28                        24.965\n",
      "2003-03-31                        25.281\n",
      "2003-04-30                        24.787\n",
      "2003-05-31                        24.889\n",
      "            consumo_energia_eletrica_GWh\n",
      "mes_ano                                 \n",
      "2021-08-31                        40.629\n",
      "2021-09-30                        41.985\n",
      "2021-10-31                        42.622\n",
      "2021-11-30                        41.932\n",
      "2021-12-31                        42.937\n"
     ]
    }
   ],
   "source": [
    "# Visualizar\n",
    "print(df.head())\n",
    "print(df.tail())"
   ]
  },
  {
   "cell_type": "code",
   "execution_count": 8,
   "metadata": {},
   "outputs": [
    {
     "data": {
      "image/png": "[encoded data removed]",
      "text/plain": [
       "<Figure size 432x288 with 1 Axes>"
      ]
     },
     "metadata": {
      "needs_background": "light"
     },
     "output_type": "display_data"
    }
   ],
   "source": [
    "# Plotar dos dados\n",
    "ax = df['consumo_energia_eletrica_GWh'].plot(color='blue')\n",
    "# Especificar título para o eixo y (PIB)\n",
    "ax.set_title('Consumo de energia elétrica no Brasil (2003-2022)')\n",
    "# Especificar um tótulo para o eixo x\n",
    "ax.set_xlabel('data')\n",
    "# Especificar um tótulo para o eixo y (PIB)\n",
    "ax.set_ylabel('GWh / mês')\n",
    "# Mostrar gráfico\n",
    "plt.show()"
   ]
  },
  {
   "cell_type": "markdown",
   "metadata": {},
   "source": [
    "## 1. Ajustes de calendário\n",
    "\n",
    "Algumas séries podem apresentar variações em decorrêccia de comportamentos sazonais.\n"
   ]
  },
  {
   "cell_type": "code",
   "execution_count": 9,
   "metadata": {},
   "outputs": [
    {
     "data": {
      "text/html": [
       "<div>\n",
       "<style scoped>\n",
       "    .dataframe tbody tr th:only-of-type {\n",
       "        vertical-align: middle;\n",
       "    }\n",
       "\n",
       "    .dataframe tbody tr th {\n",
       "        vertical-align: top;\n",
       "    }\n",
       "\n",
       "    .dataframe thead th {\n",
       "        text-align: right;\n",
       "    }\n",
       "</style>\n",
       "<table border=\"1\" class=\"dataframe\">\n",
       "  <thead>\n",
       "    <tr style=\"text-align: right;\">\n",
       "      <th></th>\n",
       "      <th>consumo_energia_eletrica_GWh</th>\n",
       "      <th>ano</th>\n",
       "      <th>mes</th>\n",
       "    </tr>\n",
       "    <tr>\n",
       "      <th>mes_ano</th>\n",
       "      <th></th>\n",
       "      <th></th>\n",
       "      <th></th>\n",
       "    </tr>\n",
       "  </thead>\n",
       "  <tbody>\n",
       "    <tr>\n",
       "      <th>2003-01-31</th>\n",
       "      <td>25.152</td>\n",
       "      <td>2003</td>\n",
       "      <td>1</td>\n",
       "    </tr>\n",
       "    <tr>\n",
       "      <th>2003-02-28</th>\n",
       "      <td>24.965</td>\n",
       "      <td>2003</td>\n",
       "      <td>2</td>\n",
       "    </tr>\n",
       "    <tr>\n",
       "      <th>2003-03-31</th>\n",
       "      <td>25.281</td>\n",
       "      <td>2003</td>\n",
       "      <td>3</td>\n",
       "    </tr>\n",
       "    <tr>\n",
       "      <th>2003-04-30</th>\n",
       "      <td>24.787</td>\n",
       "      <td>2003</td>\n",
       "      <td>4</td>\n",
       "    </tr>\n",
       "    <tr>\n",
       "      <th>2003-05-31</th>\n",
       "      <td>24.889</td>\n",
       "      <td>2003</td>\n",
       "      <td>5</td>\n",
       "    </tr>\n",
       "  </tbody>\n",
       "</table>\n",
       "</div>"
      ],
      "text/plain": [
       "            consumo_energia_eletrica_GWh   ano  mes\n",
       "mes_ano                                            \n",
       "2003-01-31                        25.152  2003    1\n",
       "2003-02-28                        24.965  2003    2\n",
       "2003-03-31                        25.281  2003    3\n",
       "2003-04-30                        24.787  2003    4\n",
       "2003-05-31                        24.889  2003    5"
      ]
     },
     "execution_count": 9,
     "metadata": {},
     "output_type": "execute_result"
    }
   ],
   "source": [
    "# \"Extrair\" ano\n",
    "df['ano'] = pd.DatetimeIndex(df.index).year\n",
    "# \"Extrair\" mês\n",
    "df['mes'] = pd.DatetimeIndex(df.index).month\n",
    "# Ver no DF\n",
    "df.head()"
   ]
  },
  {
   "cell_type": "code",
   "execution_count": 10,
   "metadata": {},
   "outputs": [
    {
     "data": {
      "image/png": "[encoded data removed]",
      "text/plain": [
       "<Figure size 421.375x360 with 1 Axes>"
      ]
     },
     "metadata": {
      "needs_background": "light"
     },
     "output_type": "display_data"
    }
   ],
   "source": [
    "sns.relplot(data=df, x='mes', y='consumo_energia_eletrica_GWh', hue='ano', kind='line');"
   ]
  },
  {
   "cell_type": "code",
   "execution_count": 28,
   "metadata": {},
   "outputs": [
    {
     "data": {
      "text/plain": [
       "mes\n",
       "1     35.219000\n",
       "2     35.104421\n",
       "3     35.772368\n",
       "4     35.457368\n",
       "5     34.676789\n",
       "6     34.086789\n",
       "7     34.147316\n",
       "8     34.874947\n",
       "9     35.362000\n",
       "10    36.013947\n",
       "11    36.160579\n",
       "12    36.022211\n",
       "Name: consumo_energia_eletrica_GWh, dtype: float64"
      ]
     },
     "execution_count": 28,
     "metadata": {},
     "output_type": "execute_result"
    }
   ],
   "source": [
    "# Média por mês\n",
    "df_mes = df.groupby(df['mes'])['consumo_energia_eletrica_GWh'].mean()\n",
    "df_mes"
   ]
  },
  {
   "cell_type": "code",
   "execution_count": 27,
   "metadata": {},
   "outputs": [
    {
     "data": {
      "image/png": "[encoded data removed]",
      "text/plain": [
       "<Figure size 432x288 with 1 Axes>"
      ]
     },
     "metadata": {
      "needs_background": "light"
     },
     "output_type": "display_data"
    }
   ],
   "source": [
    "plt.bar(df_mes.index, df_mes);"
   ]
  },
  {
   "cell_type": "markdown",
   "metadata": {},
   "source": [
    "## 2. Ajustes populacionais\n",
    "\n",
    "Ajustes populacionais são muito comuns. Quaisquer dados afetados por mudanças populacionais podem ser ajustados para fornecer dados per capita."
   ]
  },
  {
   "cell_type": "markdown",
   "metadata": {},
   "source": [
    "PIB a preços básicos (em R$ milhões) - Instituto Brasileiro de Geografia e Estatística, Sistema de Contas Nacionais (IBGE/SCN Anual)."
   ]
  },
  {
   "cell_type": "code",
   "execution_count": 37,
   "metadata": {},
   "outputs": [
    {
     "name": "stdout",
     "output_type": "stream",
     "text": [
      "<class 'pandas.core.frame.DataFrame'>\n",
      "RangeIndex: 26 entries, 0 to 25\n",
      "Data columns (total 3 columns):\n",
      " #   Column                      Non-Null Count  Dtype  \n",
      "---  ------                      --------------  -----  \n",
      " 0   ano                         26 non-null     int64  \n",
      " 1   PIB (R$ milhões correntes)  26 non-null     int64  \n",
      " 2   População (milhões)         26 non-null     float64\n",
      "dtypes: float64(1), int64(2)\n",
      "memory usage: 752.0 bytes\n"
     ]
    }
   ],
   "source": [
    "pib = pd.read_csv('dados/pib_pop.csv', sep = ';', encoding='ISO-8859-1')\n",
    "pib.info()"
   ]
  },
  {
   "cell_type": "code",
   "execution_count": 38,
   "metadata": {},
   "outputs": [
    {
     "name": "stdout",
     "output_type": "stream",
     "text": [
      "<class 'pandas.core.frame.DataFrame'>\n",
      "DatetimeIndex: 26 entries, 1996-01-01 to 2021-01-01\n",
      "Data columns (total 2 columns):\n",
      " #   Column                      Non-Null Count  Dtype  \n",
      "---  ------                      --------------  -----  \n",
      " 0   PIB (R$ milhões correntes)  26 non-null     int64  \n",
      " 1   População (milhões)         26 non-null     float64\n",
      "dtypes: float64(1), int64(1)\n",
      "memory usage: 624.0 bytes\n"
     ]
    }
   ],
   "source": [
    "pib = pd.read_csv('dados/pib_pop.csv', sep = ';', encoding='ISO-8859-1', \n",
    "                  parse_dates=['ano'], index_col=['ano'])\n",
    "pib.info()"
   ]
  },
  {
   "cell_type": "code",
   "execution_count": 39,
   "metadata": {},
   "outputs": [
    {
     "data": {
      "text/html": [
       "<div>\n",
       "<style scoped>\n",
       "    .dataframe tbody tr th:only-of-type {\n",
       "        vertical-align: middle;\n",
       "    }\n",
       "\n",
       "    .dataframe tbody tr th {\n",
       "        vertical-align: top;\n",
       "    }\n",
       "\n",
       "    .dataframe thead th {\n",
       "        text-align: right;\n",
       "    }\n",
       "</style>\n",
       "<table border=\"1\" class=\"dataframe\">\n",
       "  <thead>\n",
       "    <tr style=\"text-align: right;\">\n",
       "      <th></th>\n",
       "      <th>PIB (R$ milhões correntes)</th>\n",
       "      <th>População (milhões)</th>\n",
       "    </tr>\n",
       "    <tr>\n",
       "      <th>ano</th>\n",
       "      <th></th>\n",
       "      <th></th>\n",
       "    </tr>\n",
       "  </thead>\n",
       "  <tbody>\n",
       "    <tr>\n",
       "      <th>1996-01-01</th>\n",
       "      <td>854764</td>\n",
       "      <td>163.538</td>\n",
       "    </tr>\n",
       "    <tr>\n",
       "      <th>1997-01-01</th>\n",
       "      <td>952089</td>\n",
       "      <td>166.104</td>\n",
       "    </tr>\n",
       "    <tr>\n",
       "      <th>1998-01-01</th>\n",
       "      <td>1002350</td>\n",
       "      <td>168.693</td>\n",
       "    </tr>\n",
       "    <tr>\n",
       "      <th>1999-01-01</th>\n",
       "      <td>1087710</td>\n",
       "      <td>171.256</td>\n",
       "    </tr>\n",
       "    <tr>\n",
       "      <th>2000-01-01</th>\n",
       "      <td>1199090</td>\n",
       "      <td>173.766</td>\n",
       "    </tr>\n",
       "  </tbody>\n",
       "</table>\n",
       "</div>"
      ],
      "text/plain": [
       "            PIB (R$ milhões correntes)  População (milhões)\n",
       "ano                                                        \n",
       "1996-01-01                      854764              163.538\n",
       "1997-01-01                      952089              166.104\n",
       "1998-01-01                     1002350              168.693\n",
       "1999-01-01                     1087710              171.256\n",
       "2000-01-01                     1199090              173.766"
      ]
     },
     "execution_count": 39,
     "metadata": {},
     "output_type": "execute_result"
    }
   ],
   "source": [
    "pib.head()"
   ]
  },
  {
   "cell_type": "markdown",
   "metadata": {},
   "source": [
    "Vamos calcular o PIB per capita. Note que os valores de PIB e população estão em milhões.\n",
    "\n",
    "$$ \\text{PIB pc}_t = \\frac{\\text{PIB}_t}{\\text{população}_t} $$"
   ]
  },
  {
   "cell_type": "code",
   "execution_count": 40,
   "metadata": {},
   "outputs": [],
   "source": [
    "pib['pib_pc'] = pib['PIB (R$ milhões correntes)']/pib['População (milhões)']"
   ]
  },
  {
   "cell_type": "code",
   "execution_count": 41,
   "metadata": {},
   "outputs": [
    {
     "data": {
      "image/png": "[encoded data removed]",
      "text/plain": [
       "<Figure size 432x288 with 1 Axes>"
      ]
     },
     "metadata": {
      "needs_background": "light"
     },
     "output_type": "display_data"
    }
   ],
   "source": [
    "# Plotar dos dados\n",
    "ax = pib['pib_pc'].plot(color='blue')\n",
    "# Especificar título para o eixo y (PIB)\n",
    "ax.set_title('PIB per capita')\n",
    "# Especificar um tótulo para o eixo x\n",
    "ax.set_xlabel('data')\n",
    "# Especificar um tótulo para o eixo y (PIB)\n",
    "ax.set_ylabel('R$')\n",
    "# Mostrar gráfico\n",
    "plt.show()"
   ]
  },
  {
   "cell_type": "markdown",
   "metadata": {},
   "source": [
    "## 3. Ajustes de preços\n",
    "\n",
    "Análises com séries de valores monetários são afetadas pelas mudanças do valor do dinheiro ao longo do tempo.\n",
    "\n",
    "A forma correta de comparar valores monetários ao longo do tempo deve fazer ajustes para corrigir o efeito da inflação.\n",
    "\n",
    "### 3.1. Inflação\n",
    "\n",
    "Inflação é o nome dado ao aumento dos preços de produtos e serviços. Ela é calculada pelos índices de preços.\n",
    "Existem inúmeros índices de preços. O IBGE produz dois dos mais importantes índices de preços: o IPCA, considerado o oficial pelo governo federal, e o INPC.\n",
    "\n",
    "Outros dois índices muito utilizados são o IGP-M e o IGP-DI, calculados pela Fundação Getúlio Vargas.\n",
    "\n",
    "\n",
    "\n",
    "\n",
    "### 3.2. Cálculo de valores reais\n",
    "\n",
    "Valores monetários devem ser ajustados antes de qualquer modelagem.\n",
    "\n",
    "Normalmente, a maioria das séries são publicadas com valores nominais. Para fazer essse tipo de ajuste é necessário o uso de algum índice de preços. \n",
    "\n",
    "$$ pr_{t, s} = pn_t \\cdot \\frac{I_s}{I_t} $$\n",
    "\n",
    "Onde:\n",
    "- $pr_{t, s}=$ preço real observado no período $t$ em valores do período $s$\n",
    "- $pn_t=$ preço nominal observado no período $t$\n",
    "- $I_s=$ índice de preço no período $s$\n",
    "- $I_t=$ índice de preço no período $t$\n",
    "\n",
    "\n",
    "\n"
   ]
  },
  {
   "cell_type": "code",
   "execution_count": 67,
   "metadata": {},
   "outputs": [
    {
     "name": "stdout",
     "output_type": "stream",
     "text": [
      "<class 'pandas.core.frame.DataFrame'>\n",
      "RangeIndex: 120 entries, 0 to 119\n",
      "Data columns (total 2 columns):\n",
      " #   Column                 Non-Null Count  Dtype \n",
      "---  ------                 --------------  ----- \n",
      " 0   data                   120 non-null    object\n",
      " 1   rendimento médio (R$)  120 non-null    int64 \n",
      "dtypes: int64(1), object(1)\n",
      "memory usage: 2.0+ KB\n"
     ]
    }
   ],
   "source": [
    "rend = pd.read_excel('dados/rendimentos_pnadc.xlsx')\n",
    "rend.info()"
   ]
  },
  {
   "cell_type": "code",
   "execution_count": 68,
   "metadata": {},
   "outputs": [
    {
     "data": {
      "text/html": [
       "<div>\n",
       "<style scoped>\n",
       "    .dataframe tbody tr th:only-of-type {\n",
       "        vertical-align: middle;\n",
       "    }\n",
       "\n",
       "    .dataframe tbody tr th {\n",
       "        vertical-align: top;\n",
       "    }\n",
       "\n",
       "    .dataframe thead th {\n",
       "        text-align: right;\n",
       "    }\n",
       "</style>\n",
       "<table border=\"1\" class=\"dataframe\">\n",
       "  <thead>\n",
       "    <tr style=\"text-align: right;\">\n",
       "      <th></th>\n",
       "      <th>data</th>\n",
       "      <th>rendimento médio (R$)</th>\n",
       "    </tr>\n",
       "  </thead>\n",
       "  <tbody>\n",
       "    <tr>\n",
       "      <th>0</th>\n",
       "      <td>2012-03</td>\n",
       "      <td>1500</td>\n",
       "    </tr>\n",
       "    <tr>\n",
       "      <th>1</th>\n",
       "      <td>2012-04</td>\n",
       "      <td>1420</td>\n",
       "    </tr>\n",
       "    <tr>\n",
       "      <th>2</th>\n",
       "      <td>2012-05</td>\n",
       "      <td>1424</td>\n",
       "    </tr>\n",
       "    <tr>\n",
       "      <th>3</th>\n",
       "      <td>2012-06</td>\n",
       "      <td>1433</td>\n",
       "    </tr>\n",
       "    <tr>\n",
       "      <th>4</th>\n",
       "      <td>2012-07</td>\n",
       "      <td>1445</td>\n",
       "    </tr>\n",
       "  </tbody>\n",
       "</table>\n",
       "</div>"
      ],
      "text/plain": [
       "      data  rendimento médio (R$)\n",
       "0  2012-03                   1500\n",
       "1  2012-04                   1420\n",
       "2  2012-05                   1424\n",
       "3  2012-06                   1433\n",
       "4  2012-07                   1445"
      ]
     },
     "execution_count": 68,
     "metadata": {},
     "output_type": "execute_result"
    }
   ],
   "source": [
    "rend.head()"
   ]
  },
  {
   "cell_type": "code",
   "execution_count": 69,
   "metadata": {},
   "outputs": [
    {
     "data": {
      "text/html": [
       "<div>\n",
       "<style scoped>\n",
       "    .dataframe tbody tr th:only-of-type {\n",
       "        vertical-align: middle;\n",
       "    }\n",
       "\n",
       "    .dataframe tbody tr th {\n",
       "        vertical-align: top;\n",
       "    }\n",
       "\n",
       "    .dataframe thead th {\n",
       "        text-align: right;\n",
       "    }\n",
       "</style>\n",
       "<table border=\"1\" class=\"dataframe\">\n",
       "  <thead>\n",
       "    <tr style=\"text-align: right;\">\n",
       "      <th></th>\n",
       "      <th>rendimento médio (R$)</th>\n",
       "    </tr>\n",
       "    <tr>\n",
       "      <th>data</th>\n",
       "      <th></th>\n",
       "    </tr>\n",
       "  </thead>\n",
       "  <tbody>\n",
       "    <tr>\n",
       "      <th>2012-03</th>\n",
       "      <td>1500</td>\n",
       "    </tr>\n",
       "    <tr>\n",
       "      <th>2012-04</th>\n",
       "      <td>1420</td>\n",
       "    </tr>\n",
       "    <tr>\n",
       "      <th>2012-05</th>\n",
       "      <td>1424</td>\n",
       "    </tr>\n",
       "    <tr>\n",
       "      <th>2012-06</th>\n",
       "      <td>1433</td>\n",
       "    </tr>\n",
       "    <tr>\n",
       "      <th>2012-07</th>\n",
       "      <td>1445</td>\n",
       "    </tr>\n",
       "  </tbody>\n",
       "</table>\n",
       "</div>"
      ],
      "text/plain": [
       "         rendimento médio (R$)\n",
       "data                          \n",
       "2012-03                   1500\n",
       "2012-04                   1420\n",
       "2012-05                   1424\n",
       "2012-06                   1433\n",
       "2012-07                   1445"
      ]
     },
     "execution_count": 69,
     "metadata": {},
     "output_type": "execute_result"
    }
   ],
   "source": [
    "rend['data'] = pd.to_datetime(rend['data'], format='%Y-%m').dt.strftime('%Y-%m')\n",
    "rend = rend.set_index('data')\n",
    "rend.head()"
   ]
  },
  {
   "cell_type": "code",
   "execution_count": 72,
   "metadata": {},
   "outputs": [
    {
     "data": {
      "image/png": "[encoded data removed]",
      "text/plain": [
       "<Figure size 432x288 with 1 Axes>"
      ]
     },
     "metadata": {
      "needs_background": "light"
     },
     "output_type": "display_data"
    }
   ],
   "source": [
    "# Plotar dos dados\n",
    "ax = rend['rendimento médio (R$)'].plot(color='blue')\n",
    "# Especificar título para o eixo y (PIB)\n",
    "ax.set_title('Rendimento nominal médio do trabalho (R$) (2012-2022)')\n",
    "# Especificar um tótulo para o eixo x\n",
    "ax.set_xlabel('data')\n",
    "# Especificar um tótulo para o eixo y (PIB)\n",
    "ax.set_ylabel('R$/ mês')\n",
    "# Mostrar gráfico\n",
    "plt.show()"
   ]
  },
  {
   "cell_type": "code",
   "execution_count": null,
   "metadata": {},
   "outputs": [],
   "source": []
  },
  {
   "cell_type": "code",
   "execution_count": null,
   "metadata": {},
   "outputs": [],
   "source": []
  },
  {
   "cell_type": "code",
   "execution_count": null,
   "metadata": {},
   "outputs": [],
   "source": []
  },
  {
   "cell_type": "code",
   "execution_count": null,
   "metadata": {},
   "outputs": [],
   "source": []
  },
  {
   "cell_type": "markdown",
   "metadata": {},
   "source": [
    "## 4. Transformações matemáticas\n",
    "\n",
    "\n",
    "**4.1. Logaritmo**\n",
    "\n",
    "\n",
    "**4.2. Potências**\n",
    "\n",
    "\n",
    "**4.3. Transformação de Box-Cox**\n",
    "\n",
    "A família de transformações Box-Cox (Box & Cox, 1964) é amplamente utilizada, pois permite identificar a melhor transformação, com base no ajuste do valor de um parâmetro definido como $\\lambda$: \n",
    "\n",
    "A transformação é definida da seguinte forma:\n",
    "\n",
    "$$\n",
    "\\begin{equation}\n",
    "  z_t  =\n",
    "    \\begin{cases}\n",
    "      \\log(y_t) & \\text{se $\\lambda=0$};  \\\\\n",
    "      \\frac{|y_t|^\\lambda-1)}{\\lambda} & \\text{caso contrário}.\n",
    "    \\end{cases}\n",
    "\\end{equation}\n",
    "$$\n",
    "\n",
    "O logaritmo em uma transformação Box-Cox é sempre um logaritmo natural (ou seja, para base $\\epsilon$). Então se \n",
    "$\\lambda=0$, logaritmos naturais são usados, mas se $\\lambda \\ne 0$, uma transformação de potência é usada, seguida por um deslocamento simples.\n",
    "\n",
    "Se $\\lambda=1$, então $z_t=y_t−1$, de modo que os dados transformados são deslocados para baixo, mas não há alteração na forma da série temporal. Para todos os outros valores de $\\lambda$, a série temporal mudará de forma.\n",
    "\n",
    "- BOX GEP; COX DR. 1964. An analysis of transformations. Journal of the Royal Society 26: 211-252."
   ]
  },
  {
   "cell_type": "code",
   "execution_count": null,
   "metadata": {},
   "outputs": [],
   "source": []
  },
  {
   "cell_type": "code",
   "execution_count": null,
   "metadata": {},
   "outputs": [],
   "source": []
  },
  {
   "cell_type": "code",
   "execution_count": null,
   "metadata": {},
   "outputs": [],
   "source": []
  },
  {
   "cell_type": "code",
   "execution_count": null,
   "metadata": {},
   "outputs": [],
   "source": []
  },
  {
   "cell_type": "code",
   "execution_count": null,
   "metadata": {},
   "outputs": [],
   "source": []
  },
  {
   "cell_type": "code",
   "execution_count": null,
   "metadata": {},
   "outputs": [],
   "source": []
  },
  {
   "cell_type": "code",
   "execution_count": null,
   "metadata": {},
   "outputs": [],
   "source": []
  }
 ],
 "metadata": {
  "kernelspec": {
   "display_name": "Python 3",
   "language": "python",
   "name": "python3"
  },
  "language_info": {
   "codemirror_mode": {
    "name": "ipython",
    "version": 3
   },
   "file_extension": ".py",
   "mimetype": "text/x-python",
   "name": "python",
   "nbconvert_exporter": "python",
   "pygments_lexer": "ipython3",
   "version": "3.7.6"
  }
 },
 "nbformat": 4,
 "nbformat_minor": 4
}
