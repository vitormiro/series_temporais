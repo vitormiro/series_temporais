{
 "cells": [
  {
   "cell_type": "markdown",
   "metadata": {},
   "source": [
    "# Estacionaridade\n",
    "\n",
    "De forma mais intuitiva, estacionaridade significa que as propriedades estatísticas do processo que gera uma série temporal não mudam ao longo do tempo. Isso não significa que os valores da série não mudam ao longo do tempo, apenas que o seu comportamento, ou a forma como ela evolui, não muda ao longo do tempo.\n",
    "\n",
    "Uma analogia bastante didática, empregada por Palachy (2019), é considerar uma série estacionária como uma função linear. O valor de uma função linear, dada por  𝑦=𝑎+𝑏𝑥  muda à medida que  𝑥  cresce, mas a forma como esse valor muda permanece constante; temos uma taxa de variação constante dada por  𝑏 .\n",
    "\n",
    "A forma informal dessa definição também sugere que tais processos devem ser relativamente previsíveis, uma vez que o comportamento da série não muda ao longo do tempo.\n",
    "\n",
    "E por que isso é importante? Primeiro, porque os processos estacionários são mais fáceis de analisar. Eles constituem uma classe de uma família mais ampla de modelos, mais fácil de modelar e analisar.\n",
    "\n",
    "Além disso, modelos simples e mais fáceis de analisar podem ser surpreendentemente úteis; seja como blocos na construção de modelos mais elaborados, ou como aproximações úteis para fenômenos mais complexos. Utilidades muito comuns, seja do ponto de vista científico, seja do ponto de vista prático.\n",
    "\n",
    "Devido a essas propriedades, a estacionaridade tornou-se uma suposição comum para muitas práticas e ferramentas na análise de séries temporais. Estes incluem estimativa de tendência, previsão e inferência causal, entre outros.\n",
    "\n",
    "A importância do conceito de estacionaridade se baseia na sua ubiquidade na análise de séries temporais. Conceito do qual dependem a aplicação de muitas ferramentas e procedimentosa. De fato, para muitos casos envolvendo séries temporais, você descobrirá que precisa ser capaz de determinar se os dados foram gerados por um processo estacionário e, possivelmente, transformá-los para que tenham as propriedades de uma amostra gerada por tal processo.\n",
    "\n",
    "Quando uma série temporal é estacionária, pode ser mais fácil modelá-la. Os métodos de modelagem estatística assumem ou exigem que as séries temporais sejam estacionárias para serem efetivas.\n",
    "\n",
    "Uma caracteristica central de uma série temporal estacionária é que medidas como média e variância não são dependentes do tempo. Para serem estacionárias, as séries também não devem ter efeitos de tendência ou sazonalidade.\n",
    "\n",
    "Intuitivamente, estacionaridade significa que as propriedades estatísticas do processo não mudam ao longo do tempo. No entanto, várias noções diferentes de estacionaridade têm sido sugeridas na literatura econométrica ao longo dos anos."
   ]
  },
  {
   "cell_type": "markdown",
   "metadata": {},
   "source": [
    "## Processos estocásticos e estacionaridade\n",
    "\n",
    "Assim como fez Palachy (2019), antes de introduzir noções mais formais de estacionaridade, vamos ver algumas definições precursoras e que ajudam a compreender o conceito.\n",
    "\n",
    "**Espaço de probabilidade.**\n",
    "Um espaço de probabilidade é uma tripla $(\\Omega, \\mathbb{F}, \\mathbb{P})$, em que:\n",
    "1. $\\Omega$ é um conjunto não vazio denominado como espaço amostral.\n",
    "2. $\\mathbb{F}$ é uma $\\sigma\\text{-álgebra}$ de subconjuntos do espaço amostral $\\Omega$, ou seja, uma família de subconjuntos fechados em relação à união contável e complementares em relação a $\\Omega$.\n",
    "3. $\\mathbb{P}$ é uma medida de probabilidade definida para todos os membros de $\\mathbb{F}$.\n",
    "\n",
    "\n",
    "**Variável Aleatória.**\n",
    "Uma variável aleatória real em $(\\Omega, \\mathbb{F}, \\mathbb{P})$ é uma função $x:\\Omega \\rightarrow \\mathbb{R}$, tal que a imagem inversa de qualquer intervalo $(-\\infty,a]$ pertence a $F$; ou seja, uma função mensurável.\n",
    "\n",
    "Na matemática (teoria da medida), uma função mensurável é uma função entre os conjuntos subjacentes de dois espaços mensuráveis que preserva a estrutura dos espaços. Por sua vez, um espaço mensurável, também chamado de espaço de Borel, consiste em um conjunto e uma $\\sigma\\text{-álgebra}$, que define os subconjuntos que serão medidos.\n",
    "\n",
    "**Processo Estocástico.**\n",
    "Um processo estocástico é uma família de variáveis aleatórias reais $X = \\{x_i(\\omega); i \\in \\mathbb{T}\\}$, todos definidos no mesmo espaço de probabilidade $(\\Omega, \\mathbb{F}, \\mathbb{P})$. O conjunto \\mathbb{T} é chamado de conjunto índice do processo. Se $\\mathbb{T} \\subset \\mathbb{Z}$, então o processo é chamado de processo estocástico discreto. Se Se $\\mathbb{T} \\subset \\mathbb{R}$, então o processo é chamado de processo estocástico contínuo.\n",
    "\n",
    "**Distribuição Dimensional Finita.** Para um conjunto finito de inteiros $\\mathbb{T} ={t_1, \\cdots,t_n}$, a função de distribuição conjunta de $X = \\{x_i(\\omega); i \\in \\mathbb{T}\\}$ é definido por:\n",
    "\n",
    "$$ F(y_{t_1}, y_{t_2}, \\cdots, y_{t_n}) = P( Y_{t_1}(\\omega) \\leq y_{t_1}, \\cdots, Y_{t_n}(\\omega) \\leq y_{t_n}) $$\n",
    "\n",
    "A distribuição dimensional finita de um processo estocástico é então definida como o conjunto de todas essas funções de distribuição conjunta para todos esses conjuntos inteiros finitos $\\mathbb{T}$ de qualquer tamanho $n$"
   ]
  },
  {
   "cell_type": "markdown",
   "metadata": {},
   "source": [
    "\n",
    "Uma distinção importante a ser feita antes de mergulhar nessas definições é que a estacionaridade — de qualquer tipo — é uma propriedade de um processo estocástico, e não de qualquer realização finita ou infinita dele (ou seja, uma série temporal de valores).\n",
    "\n",
    "Vejamos algumas definições mais formais como apresentadas por *Bueno (2018)*.\n",
    "\n",
    "**Definição 1**\n",
    "O processo estocástico ${y_t, t \\in \\mathbb{Z}}$ é **fracamente estacionário** se:\n",
    "1. O primeiro momento de $y_i$ é constante, ou seja: $\\mathbb{E}(y_t) = \\mu \\text{,  para todo } t \\in \\mathbb{T}$\n",
    "2. O segundo momento de $y_i$ é finito para todo $t$, ou seja: $\\mathbb{E} \\left|y_t\\right|^2 < \\infty $. Com isso, a variância $\\mathbb{E}[y_t - \\mu]^2 < \\infty \\text{,  para todo } t \\in \\mathbb{T}$\n",
    "3. A autocovariância depende apenas da diferença entre $t$ e $t-k$: $\\mathbb{E}(y_t -\\mu)(y_{t-k} -\\mu) = \\gamma_k$\n",
    "\n",
    "A primeira condição assegura que a média é igual para todo período, mesmo que a distribuição da variável aleatória vá se alterando ao longo do tempo. A segunda condição afirma que apenas o segundo momento não centrado deve ser finito, ainda que desigual em diferentes períodos. A terceira condição estabelece que a variância é sempre igual para todo período e que a autocovariância não depende do tempo, mas da distância temporal entre as observações.\n",
    "\n",
    "**Definição 2**\n",
    "O processo estocástico ${y_t, t \\in \\mathbb{T}}, \\mathbb{T} = \\left\\{ 0, \\pm 1, \\pm 2, \\cdots \\right\\} $ é **estritamente estacionário** se a função de distribuição conjunta de $\\left\\{y_{t_i} \\right\\}_{i=1}^{k}$ for igual à função de distribuição conjunta de $\\left\\{y_{t_i + h} \\right\\}_{i=1}^{k}$, $h \\in \\mathbb{T}$, isto é:\n",
    "\n",
    "$$ F(y_{t_1}, y_{t_2}, \\cdots, y_{t_k}) = F(y_{t_1 + h}, y_{t_2 + h}, \\cdots, y_{t_k + h}) $$\n",
    "\n",
    "A estacionaridade estrita significa que os gráficos da função distribuição da série em quaisquer dois intervalos de tempo de igual tamanho exibirão propriedades estatísticas similares. Isso significa que os momentos populacionais, quando existem, são independentes de $t$.\n",
    "\n",
    "\n"
   ]
  },
  {
   "cell_type": "markdown",
   "metadata": {},
   "source": [
    "## Detectando a estacionaridade\n",
    "\n",
    "### Vizualização"
   ]
  },
  {
   "cell_type": "code",
   "execution_count": null,
   "metadata": {},
   "outputs": [],
   "source": []
  },
  {
   "cell_type": "code",
   "execution_count": null,
   "metadata": {},
   "outputs": [],
   "source": []
  },
  {
   "cell_type": "markdown",
   "metadata": {},
   "source": [
    "### Autocorrelação\n",
    "Ao plotar o valor da FAC para defasagens crescentes (correlograma), os valores tendem a degradar para zero rapidamente para séries temporais estacionárias, enquanto para dados não estacionários a degradação acontecerá mais lentamente."
   ]
  },
  {
   "cell_type": "code",
   "execution_count": null,
   "metadata": {},
   "outputs": [],
   "source": []
  },
  {
   "cell_type": "code",
   "execution_count": null,
   "metadata": {},
   "outputs": [],
   "source": []
  },
  {
   "cell_type": "markdown",
   "metadata": {},
   "source": [
    "### Testes paramétricos\n",
    "Outra abordagem mais rigorosa para detectar a estacionaridade em dados de séries temporais é usar testes estatísticos desenvolvidos para esta tarefa.\n",
    "\n",
    "\n",
    "### Testes de raiz unitária\n",
    "\n",
    "**Teste de Dickey-Fuller**\n",
    "\n",
    "O teste de Dickey-Fuller foi o primeiro teste estatístico desenvolvido para testar a hipótese nula de que uma raiz unitária está presente em um modelo autorregressivo de uma determinada série temporal, e que o processo não é estacionário. \n",
    "\n",
    "O teste original trata do caso de um modelo AR(1) simples. O teste tem três versões, que diferem no modelo de processo de raiz unitária que testam;\n",
    "\n",
    "- Teste para uma raiz unitária:\n",
    "$$ \\Delta y_i = \\delta y_{i-1} + u_i $$\n",
    "- Teste para uma raiz unitária com deriva:\n",
    "$$ \\Delta y_i = a_0 + \\delta y_{i-1} + u_i $$\n",
    "- Teste para uma raiz unitária com deriva e tendência temporal determinística:\n",
    "$$ \\Delta y_i = a_0 + a_1 t + \\delta y_{i-1} + u_i $$\n",
    "\n",
    "A escolha de qual versão usar — que pode afetar significativamente o tamanho e o poder do teste — pode utilizar conhecimento prévio ou estratégias estruturadas para séries de testes ordenados, permitindo a descoberta da versão mais adequada.\n",
    "\n",
    "Extensões do teste foram desenvolvidas para acomodar modelos e dados mais complexos; estes incluem o Augmented Dickey-Fuller (ADF) (usando AR de qualquer ordem p e suportando modelagem de tendências de tempo), o teste Phillips-Perron (PP) (adicionando robustez à autocorrelação não especificada e heterocedasticidade) e o teste ADF-GLS (localmente dados de tendência para lidar com tendências constantes e lineares)."
   ]
  },
  {
   "cell_type": "code",
   "execution_count": null,
   "metadata": {},
   "outputs": [],
   "source": []
  },
  {
   "cell_type": "code",
   "execution_count": null,
   "metadata": {},
   "outputs": [],
   "source": []
  },
  {
   "cell_type": "markdown",
   "metadata": {},
   "source": [
    "### Teste KPSS\n",
    "\n",
    "Outro teste importante para a presença de uma raiz unitária é o teste KPSS [Kwiatkowski et al, 1992].\n",
    "Ao contrário da família de testes Dickey-Fuller, a hipótese nula assume estacionariedade em torno de uma média ou tendência linear, enquanto a alternativa é a presença de uma raiz unitária.\n",
    "\n",
    "O teste é baseado em regressão linear, dividindo a série em três partes: uma tendência determinística ($\\beta_t$), um passeio aleatório ($r_t$) e um erro estacionário ($\\epsilon_t$), com a equação de regressão:\n",
    "\n",
    "$$ x_t = r_t + \\beta_t + \\epsilon_t $$\n",
    "\n",
    "em que $r_t = r_{t-1} + u_t$, com $u_t \\sim iid (0, \\sigma^2) $\n",
    "\n",
    "\n",
    "O teste KPSS é frequentemente usado para complementar os testes do tipo Dickey-Fuller."
   ]
  },
  {
   "cell_type": "code",
   "execution_count": null,
   "metadata": {},
   "outputs": [],
   "source": []
  }
 ],
 "metadata": {
  "kernelspec": {
   "display_name": "Python 3",
   "language": "python",
   "name": "python3"
  },
  "language_info": {
   "codemirror_mode": {
    "name": "ipython",
    "version": 3
   },
   "file_extension": ".py",
   "mimetype": "text/x-python",
   "name": "python",
   "nbconvert_exporter": "python",
   "pygments_lexer": "ipython3",
   "version": "3.7.6"
  }
 },
 "nbformat": 4,
 "nbformat_minor": 4
}
