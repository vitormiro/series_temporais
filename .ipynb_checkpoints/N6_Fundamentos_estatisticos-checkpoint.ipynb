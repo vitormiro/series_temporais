{
 "cells": [
  {
   "cell_type": "markdown",
   "metadata": {},
   "source": [
    "# Estacionaridade\n",
    "\n",
    "De forma mais intuitiva, estacionaridade significa que as propriedades estatísticas do processo que gera uma série temporal não mudam ao longo do tempo. Isso não significa que os valores da série não mudam ao longo do tempo, apenas que o seu comportamento, ou a forma como ela evolui, não muda ao longo do tempo.\n",
    "\n",
    "Uma analogia bastante didática, empregada por Palachy (2019), é considerar uma série estacionária como uma função linear. O valor de uma função linear, dada por  𝑦=𝑎+𝑏𝑥  muda à medida que  𝑥  cresce, mas a forma como esse valor muda permanece constante; temos uma taxa de variação constante dada por  𝑏 .\n",
    "\n",
    "A forma informal dessa definição também sugere que tais processos devem ser relativamente previsíveis, uma vez que o comportamento da série não muda ao longo do tempo.\n",
    "\n",
    "E por que isso é importante? Primeiro, porque os processos estacionários são mais fáceis de analisar. Eles constituem uma classe de uma família mais ampla de modelos, mais fácil de modelar e analisar.\n",
    "\n",
    "Além disso, modelos simples e mais fáceis de analisar podem ser surpreendentemente úteis; seja como blocos na construção de modelos mais elaborados, ou como aproximações úteis para fenômenos mais complexos. Utilidades muito comuns, seja do ponto de vista científico, seja do ponto de vista prático.\n",
    "\n",
    "Devido a essas propriedades, a estacionaridade tornou-se uma suposição comum para muitas práticas e ferramentas na análise de séries temporais. Estes incluem estimativa de tendência, previsão e inferência causal, entre outros.\n",
    "\n",
    "A importância do conceito de estacionaridade se baseia na sua ubiquidade na análise de séries temporais. Conceito do qual dependem a aplicação de muitas ferramentas e procedimentosa. De fato, para muitos casos envolvendo séries temporais, você descobrirá que precisa ser capaz de determinar se os dados foram gerados por um processo estacionário e, possivelmente, transformá-los para que tenham as propriedades de uma amostra gerada por tal processo.\n",
    "\n",
    "Quando uma série temporal é estacionária, pode ser mais fácil modelá-la. Os métodos de modelagem estatística assumem ou exigem que as séries temporais sejam estacionárias para serem efetivas.\n",
    "\n",
    "Uma caracteristica central de uma série temporal estacionária é que medidas como média e variância não são dependentes do tempo. Para serem estacionárias, as séries também não devem ter efeitos de tendência ou sazonalidade.\n",
    "\n",
    "Intuitivamente, estacionaridade significa que as propriedades estatísticas do processo não mudam ao longo do tempo. No entanto, várias noções diferentes de estacionaridade têm sido sugeridas na literatura econométrica ao longo dos anos."
   ]
  },
  {
   "cell_type": "markdown",
   "metadata": {},
   "source": [
    "## Processos estocásticos e estacionaridade\n",
    "\n",
    "Assim como fez Palachy (2019), antes de introduzir noções mais formais de estacionaridade, vamos ver algumas definições precursoras e que ajudam a compreender o conceito.\n",
    "\n",
    "**Espaço de probabilidade.**\n",
    "Um espaço de probabilidade é uma tripla $(\\Omega, \\mathbb{F}, \\mathbb{P})$, em que:\n",
    "1. $\\Omega$ é um conjunto não vazio denominado como espaço amostral.\n",
    "2. $\\mathbb{F}$ é uma $\\sigma\\text{-álgebra}$ de subconjuntos do espaço amostral $\\Omega$, ou seja, uma família de subconjuntos fechados em relação à união contável e complementares em relação a $\\Omega$.\n",
    "3. $\\mathbb{P}$ é uma medida de probabilidade definida para todos os membros de $\\mathbb{F}$.\n",
    "\n",
    "\n",
    "**Variável Aleatória.**\n",
    "Uma variável aleatória real em $(\\Omega, \\mathbb{F}, \\mathbb{P})$ é uma função $x:\\Omega \\rightarrow \\mathbb{R}$, tal que a imagem inversa de qualquer intervalo $(-\\infty,a]$ pertence a $F$; ou seja, uma função mensurável.\n",
    "\n",
    "Na matemática (teoria da medida), uma função mensurável é uma função entre os conjuntos subjacentes de dois espaços mensuráveis que preserva a estrutura dos espaços. Por sua vez, um espaço mensurável, também chamado de espaço de Borel, consiste em um conjunto e uma $\\sigma\\text{-álgebra}$, que define os subconjuntos que serão medidos.\n",
    "\n",
    "**Processo Estocástico.**\n",
    "Um processo estocástico é uma família de variáveis aleatórias reais $X = \\{x_i(\\omega); i \\in \\mathbb{T}\\}$, todos definidos no mesmo espaço de probabilidade $(\\Omega, \\mathbb{F}, \\mathbb{P})$. O conjunto \\mathbb{T} é chamado de conjunto índice do processo. Se $\\mathbb{T} \\subset \\mathbb{Z}$, então o processo é chamado de processo estocástico discreto. Se Se $\\mathbb{T} \\subset \\mathbb{R}$, então o processo é chamado de processo estocástico contínuo.\n",
    "\n",
    "**Distribuição Dimensional Finita.** Para um conjunto finito de inteiros $\\mathbb{T} ={t_1, \\cdots,t_n}$, a função de distribuição conjunta de $X = \\{x_i(\\omega); i \\in \\mathbb{T}\\}$ é definido por:\n",
    "\n",
    "$$ F(y_{t_1}, y_{t_2}, \\cdots, y_{t_n}) = P( Y_{t_1}(\\omega) \\leq y_{t_1}, \\cdots, Y_{t_n}(\\omega) \\leq y_{t_n}) $$\n",
    "\n",
    "A distribuição dimensional finita de um processo estocástico é então definida como o conjunto de todas essas funções de distribuição conjunta para todos esses conjuntos inteiros finitos $\\mathbb{T}$ de qualquer tamanho $n$"
   ]
  },
  {
   "cell_type": "markdown",
   "metadata": {},
   "source": [
    "\n",
    "Uma distinção importante a ser feita antes de mergulhar nessas definições é que a estacionaridade — de qualquer tipo — é uma propriedade de um processo estocástico, e não de qualquer realização finita ou infinita dele (ou seja, uma série temporal de valores).\n",
    "\n",
    "Vejamos algumas definições mais formais como apresentadas por *Bueno (2018)*.\n",
    "\n",
    "**Definição 1**\n",
    "O processo estocástico ${y_t, t \\in \\mathbb{Z}}$ é **fracamente estacionário** se:\n",
    "1. O primeiro momento de $y_i$ é constante, ou seja: $\\mathbb{E}(y_t) = \\mu \\text{,  para todo } t \\in \\mathbb{T}$\n",
    "2. O segundo momento de $y_i$ é finito para todo $t$, ou seja: $\\mathbb{E} \\left|y_t\\right|^2 < \\infty $. Com isso, a variância $\\mathbb{E}[y_t - \\mu]^2 < \\infty \\text{,  para todo } t \\in \\mathbb{T}$\n",
    "3. A autocovariância depende apenas da diferença entre $t$ e $t-k$: $\\mathbb{E}(y_t -\\mu)(y_{t-k} -\\mu) = \\gamma_k$\n",
    "\n",
    "A primeira condição assegura que a média é igual para todo período, mesmo que a distribuição da variável aleatória vá se alterando ao longo do tempo. A segunda condição afirma que apenas o segundo momento não centrado deve ser finito, ainda que desigual em diferentes períodos. A terceira condição estabelece que a variância é sempre igual para todo período e que a autocovariância não depende do tempo, mas da distância temporal entre as observações.\n",
    "\n",
    "**Definição 2**\n",
    "O processo estocástico ${y_t, t \\in \\mathbb{T}}, \\mathbb{T} = \\left\\{ 0, \\pm 1, \\pm 2, \\cdots \\right\\} $ é **estritamente estacionário** se a função de distribuição conjunta de $\\left\\{y_{t_i} \\right\\}_{i=1}^{k}$ for igual à função de distribuição conjunta de $\\left\\{y_{t_i + h} \\right\\}_{i=1}^{k}$, $h \\in \\mathbb{T}$, isto é:\n",
    "\n",
    "$$ F(y_{t_1}, y_{t_2}, \\cdots, y_{t_k}) = F(y_{t_1 + h}, y_{t_2 + h}, \\cdots, y_{t_k + h}) $$\n",
    "\n",
    "A estacionaridade estrita significa que os gráficos da função distribuição da série em quaisquer dois intervalos de tempo de igual tamanho exibirão propriedades estatísticas similares. Isso significa que os momentos populacionais, quando existem, são independentes de $t$.\n",
    "\n",
    "\n"
   ]
  },
  {
   "cell_type": "markdown",
   "metadata": {},
   "source": [
    "## Detectando a estacionaridade\n",
    "\n",
    "### Visualização\n",
    "\n",
    "Plotar os dados da série em um gráfico para visualizar seu comportamento é uma das primeiras ferramentas na identificação de estacionaridade ou não. \n",
    "\n",
    "Determinar se uma série temporal foi gerada por um processo estacionário apenas observando o gráficos da série é um procedimento duvidoso, nada científico, mas que fornece algumas evidência iniciais. Conforme Hyndman e Athanasopoulos (2022), existem algumas propriedades básicas de dados não estacionários que podemos procurar como a presença de sazonalidade, tendência e variância crescente."
   ]
  },
  {
   "cell_type": "code",
   "execution_count": 1,
   "metadata": {},
   "outputs": [],
   "source": [
    "# Importar bibliotecas\n",
    "import numpy as np\n",
    "import pandas as pd\n",
    "import matplotlib.pyplot as plt\n",
    "import seaborn as sns"
   ]
  },
  {
   "cell_type": "code",
   "execution_count": 2,
   "metadata": {},
   "outputs": [],
   "source": [
    "# carregar dados\n",
    "df = pd.read_csv('dados/consumo_energia_2.csv')\n",
    "\n",
    "# Definir variável 'datetime'\n",
    "df['mes_ano'] = pd.to_datetime(df['mes_ano'])\n",
    "# Definir variável de tempo como indice\n",
    "df = df.set_index('mes_ano')"
   ]
  },
  {
   "cell_type": "code",
   "execution_count": 3,
   "metadata": {},
   "outputs": [
    {
     "data": {
      "image/png": "[encoded data removed]",
      "text/plain": [
       "<Figure size 432x288 with 1 Axes>"
      ]
     },
     "metadata": {
      "needs_background": "light"
     },
     "output_type": "display_data"
    }
   ],
   "source": [
    "# Plotar dos dados\n",
    "ax = df['consumo_energia_eletrica_GWh'].plot(color='blue')\n",
    "# Especificar título para o eixo y (PIB)\n",
    "ax.set_title('Consumo de energia elétrica no Brasil (2003-2022)')\n",
    "# Especificar um tótulo para o eixo x\n",
    "ax.set_xlabel('data')\n",
    "# Especificar um tótulo para o eixo y (PIB)\n",
    "ax.set_ylabel('GWh / mês')\n",
    "# Mostrar gráfico\n",
    "plt.show()"
   ]
  },
  {
   "cell_type": "code",
   "execution_count": null,
   "metadata": {},
   "outputs": [],
   "source": []
  },
  {
   "cell_type": "markdown",
   "metadata": {},
   "source": [
    "### Autocorrelação\n",
    "Ao plotar o valor da FAC para defasagens crescentes (correlograma), os valores tendem a degradar para zero rapidamente para séries temporais estacionárias, enquanto para dados não estacionários a degradação acontecerá mais lentamente."
   ]
  },
  {
   "cell_type": "code",
   "execution_count": 4,
   "metadata": {},
   "outputs": [],
   "source": [
    "from statsmodels.tsa.stattools import acf\n",
    "from statsmodels.graphics.tsaplots import plot_acf"
   ]
  },
  {
   "cell_type": "code",
   "execution_count": 15,
   "metadata": {},
   "outputs": [
    {
     "data": {
      "image/png": "[encoded data removed]",
      "text/plain": [
       "<Figure size 432x288 with 1 Axes>"
      ]
     },
     "metadata": {
      "needs_background": "light"
     },
     "output_type": "display_data"
    }
   ],
   "source": [
    "plot_acf(df['consumo_energia_eletrica_GWh'], lags=30, alpha=.05)\n",
    "plt.show()"
   ]
  },
  {
   "cell_type": "code",
   "execution_count": 12,
   "metadata": {},
   "outputs": [
    {
     "data": {
      "text/html": [
       "<div>\n",
       "<style scoped>\n",
       "    .dataframe tbody tr th:only-of-type {\n",
       "        vertical-align: middle;\n",
       "    }\n",
       "\n",
       "    .dataframe tbody tr th {\n",
       "        vertical-align: top;\n",
       "    }\n",
       "\n",
       "    .dataframe thead th {\n",
       "        text-align: right;\n",
       "    }\n",
       "</style>\n",
       "<table border=\"1\" class=\"dataframe\">\n",
       "  <thead>\n",
       "    <tr style=\"text-align: right;\">\n",
       "      <th></th>\n",
       "      <th>consumo_energia_eletrica_GWh</th>\n",
       "      <th>diff1</th>\n",
       "    </tr>\n",
       "    <tr>\n",
       "      <th>mes_ano</th>\n",
       "      <th></th>\n",
       "      <th></th>\n",
       "    </tr>\n",
       "  </thead>\n",
       "  <tbody>\n",
       "    <tr>\n",
       "      <th>2003-01-31</th>\n",
       "      <td>25.152</td>\n",
       "      <td>NaN</td>\n",
       "    </tr>\n",
       "    <tr>\n",
       "      <th>2003-02-28</th>\n",
       "      <td>24.965</td>\n",
       "      <td>-0.187</td>\n",
       "    </tr>\n",
       "    <tr>\n",
       "      <th>2003-03-31</th>\n",
       "      <td>25.281</td>\n",
       "      <td>0.316</td>\n",
       "    </tr>\n",
       "    <tr>\n",
       "      <th>2003-04-30</th>\n",
       "      <td>24.787</td>\n",
       "      <td>-0.494</td>\n",
       "    </tr>\n",
       "    <tr>\n",
       "      <th>2003-05-31</th>\n",
       "      <td>24.889</td>\n",
       "      <td>0.102</td>\n",
       "    </tr>\n",
       "  </tbody>\n",
       "</table>\n",
       "</div>"
      ],
      "text/plain": [
       "            consumo_energia_eletrica_GWh  diff1\n",
       "mes_ano                                        \n",
       "2003-01-31                        25.152    NaN\n",
       "2003-02-28                        24.965 -0.187\n",
       "2003-03-31                        25.281  0.316\n",
       "2003-04-30                        24.787 -0.494\n",
       "2003-05-31                        24.889  0.102"
      ]
     },
     "execution_count": 12,
     "metadata": {},
     "output_type": "execute_result"
    }
   ],
   "source": [
    "# Tomar 1ª diferença da série\n",
    "df['diff1'] = df['consumo_energia_eletrica_GWh'].diff(1)\n",
    "df.head()"
   ]
  },
  {
   "cell_type": "code",
   "execution_count": 16,
   "metadata": {},
   "outputs": [
    {
     "data": {
      "image/png": "[encoded data removed]",
      "text/plain": [
       "<Figure size 432x288 with 1 Axes>"
      ]
     },
     "metadata": {
      "needs_background": "light"
     },
     "output_type": "display_data"
    }
   ],
   "source": [
    "# Plotar a FAC da 1ª diferença\n",
    "plot_acf(df['diff1'], lags=30, alpha=.05)\n",
    "plt.show()"
   ]
  },
  {
   "cell_type": "code",
   "execution_count": null,
   "metadata": {},
   "outputs": [],
   "source": []
  },
  {
   "cell_type": "markdown",
   "metadata": {},
   "source": [
    "### Processo estacionário em diferença\n",
    "\n",
    "Considere um processo AR(p), dado por:\n",
    "$$ y_t = \\phi_0 + \\phi_1 y_{t-1} + \\phi_2 y_{t-2} + \\cdots + \\phi_p y_{t-p} + \\epsilon_t $$\n",
    "\n",
    "Onde $ \\epsilon_t $ são geralmente processos de ruído branco não correlacionados (para todo t ). \n",
    "\n",
    "Usando operador de defasagem, podemos escrever o mesmo processo como:\n",
    "$$ (1 - \\phi_1L - \\phi_2 L^2 - \\cdots - \\phi_p L^p ) y_t = \\phi_0 + \\epsilon_t $$\n",
    "\n",
    "A parte dentro dos parênteses à esquerda é chamada de equação característica do processo. Podemos considerar as raízes desta equação: $ a^p - a^{p-1}\\phi_1 - \\cdots - \\phi_p = 0$.\n",
    "\n",
    "\n",
    "Se $a = 1 é$ uma raiz da equação, então o processo estocástico é dito ser um processo estacionário diferencial, ou integrado. Isso significa que o processo pode ser transformado em um processo fracamente estacionário aplicando diferenciação sobre a série.\n",
    "\n",
    "Processos estacionários de diferença têm uma ordem de integração, que é o número de vezes que o operador de diferenciação deve ser aplicado a ele para obter estacionariedade fraca. Um processo que deve ser diferenciado $r$ vezes é dito integrado de ordem $r$, denotado por $I(r)$ . Isso coincide exatamente com a multiplicidade da raiz $a=1$; ou seja, se $a=1$ é uma raiz da multiplicidade $r$ da equação característica, então o processo é integrado de ordem $r$."
   ]
  },
  {
   "cell_type": "code",
   "execution_count": null,
   "metadata": {},
   "outputs": [],
   "source": []
  },
  {
   "cell_type": "code",
   "execution_count": null,
   "metadata": {},
   "outputs": [],
   "source": []
  },
  {
   "cell_type": "markdown",
   "metadata": {},
   "source": [
    "### Processo de raíz unitária\n",
    "\n"
   ]
  },
  {
   "cell_type": "code",
   "execution_count": null,
   "metadata": {},
   "outputs": [],
   "source": []
  },
  {
   "cell_type": "markdown",
   "metadata": {},
   "source": [
    "### Testes paramétricos\n",
    "Outra abordagem mais rigorosa para detectar a estacionaridade em dados de séries temporais é usar testes estatísticos desenvolvidos para esta tarefa.\n",
    "\n",
    "\n",
    "### Testes de raiz unitária\n",
    "\n",
    "**Teste de Dickey-Fuller**\n",
    "\n",
    "O teste de Dickey-Fuller foi o primeiro teste estatístico desenvolvido para testar a hipótese nula de que uma raiz unitária está presente em um modelo autorregressivo de uma determinada série temporal, e que o processo não é estacionário. \n",
    "\n",
    "O teste original trata do caso de um modelo AR(1) simples. O teste tem três versões, que diferem no modelo de processo de raiz unitária que testam;\n",
    "\n",
    "- Teste para uma raiz unitária:\n",
    "$$ \\Delta y_i = \\delta y_{i-1} + u_i $$\n",
    "- Teste para uma raiz unitária com deriva:\n",
    "$$ \\Delta y_i = a_0 + \\delta y_{i-1} + u_i $$\n",
    "- Teste para uma raiz unitária com deriva e tendência temporal determinística:\n",
    "$$ \\Delta y_i = a_0 + a_1 t + \\delta y_{i-1} + u_i $$\n",
    "\n",
    "A escolha de qual versão usar — que pode afetar significativamente o tamanho e o poder do teste — pode utilizar conhecimento prévio ou estratégias estruturadas para séries de testes ordenados, permitindo a descoberta da versão mais adequada.\n",
    "\n",
    "Extensões do teste foram desenvolvidas para acomodar modelos e dados mais complexos; estes incluem o Augmented Dickey-Fuller (ADF) (usando AR de qualquer ordem p e suportando modelagem de tendências de tempo), o teste Phillips-Perron (PP) (adicionando robustez à autocorrelação não especificada e heterocedasticidade) e o teste ADF-GLS (localmente dados de tendência para lidar com tendências constantes e lineares)."
   ]
  },
  {
   "cell_type": "code",
   "execution_count": null,
   "metadata": {},
   "outputs": [],
   "source": []
  },
  {
   "cell_type": "code",
   "execution_count": null,
   "metadata": {},
   "outputs": [],
   "source": []
  },
  {
   "cell_type": "markdown",
   "metadata": {},
   "source": [
    "### Teste KPSS\n",
    "\n",
    "Outro teste importante para a presença de uma raiz unitária é o teste KPSS [Kwiatkowski et al, 1992].\n",
    "Ao contrário da família de testes Dickey-Fuller, a hipótese nula assume estacionariedade em torno de uma média ou tendência linear, enquanto a alternativa é a presença de uma raiz unitária.\n",
    "\n",
    "O teste é baseado em regressão linear, dividindo a série em três partes: uma tendência determinística ($\\beta_t$), um passeio aleatório ($r_t$) e um erro estacionário ($\\epsilon_t$), com a equação de regressão:\n",
    "\n",
    "$$ x_t = r_t + \\beta_t + \\epsilon_t $$\n",
    "\n",
    "em que $r_t = r_{t-1} + u_t$, com $u_t \\sim iid (0, \\sigma^2) $\n",
    "\n",
    "\n",
    "O teste KPSS é frequentemente usado para complementar os testes do tipo Dickey-Fuller."
   ]
  },
  {
   "cell_type": "code",
   "execution_count": null,
   "metadata": {},
   "outputs": [],
   "source": []
  },
  {
   "cell_type": "code",
   "execution_count": null,
   "metadata": {},
   "outputs": [],
   "source": []
  },
  {
   "cell_type": "code",
   "execution_count": null,
   "metadata": {},
   "outputs": [],
   "source": []
  },
  {
   "cell_type": "code",
   "execution_count": null,
   "metadata": {},
   "outputs": [],
   "source": []
  }
 ],
 "metadata": {
  "kernelspec": {
   "display_name": "Python 3",
   "language": "python",
   "name": "python3"
  },
  "language_info": {
   "codemirror_mode": {
    "name": "ipython",
    "version": 3
   },
   "file_extension": ".py",
   "mimetype": "text/x-python",
   "name": "python",
   "nbconvert_exporter": "python",
   "pygments_lexer": "ipython3",
   "version": "3.7.6"
  }
 },
 "nbformat": 4,
 "nbformat_minor": 4
}
