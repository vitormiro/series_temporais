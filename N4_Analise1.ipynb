{
 "cells": [
  {
   "cell_type": "markdown",
   "metadata": {},
   "source": [
    "## Analisando caracteristicas da série temporal\n",
    "\n",
    "Assim como em qualquer análise de dados, é interessante obter um sumário estatístico básico da série temporal, o que inclui a média, o mínimo, o máximo, entre outras medidas. Estes podem ser calculados usando o método `describe()`."
   ]
  },
  {
   "cell_type": "code",
   "execution_count": 1,
   "metadata": {},
   "outputs": [],
   "source": [
    "# Importar bibliotecas\n",
    "import numpy as np\n",
    "import pandas as pd\n",
    "import matplotlib.pyplot as plt\n",
    "import seaborn as sns"
   ]
  },
  {
   "cell_type": "code",
   "execution_count": 4,
   "metadata": {},
   "outputs": [
    {
     "name": "stdout",
     "output_type": "stream",
     "text": [
      "<class 'pandas.core.frame.DataFrame'>\n",
      "Index: 120 entries, 2012-03 to 2022-02\n",
      "Data columns (total 1 columns):\n",
      " #   Column                 Non-Null Count  Dtype\n",
      "---  ------                 --------------  -----\n",
      " 0   rendimento médio (R$)  120 non-null    int64\n",
      "dtypes: int64(1)\n",
      "memory usage: 1.9+ KB\n",
      "None\n"
     ]
    },
    {
     "data": {
      "text/html": [
       "<div>\n",
       "<style scoped>\n",
       "    .dataframe tbody tr th:only-of-type {\n",
       "        vertical-align: middle;\n",
       "    }\n",
       "\n",
       "    .dataframe tbody tr th {\n",
       "        vertical-align: top;\n",
       "    }\n",
       "\n",
       "    .dataframe thead th {\n",
       "        text-align: right;\n",
       "    }\n",
       "</style>\n",
       "<table border=\"1\" class=\"dataframe\">\n",
       "  <thead>\n",
       "    <tr style=\"text-align: right;\">\n",
       "      <th></th>\n",
       "      <th>rendimento médio (R$)</th>\n",
       "    </tr>\n",
       "    <tr>\n",
       "      <th>data</th>\n",
       "      <th></th>\n",
       "    </tr>\n",
       "  </thead>\n",
       "  <tbody>\n",
       "    <tr>\n",
       "      <th>2012-03</th>\n",
       "      <td>1500</td>\n",
       "    </tr>\n",
       "    <tr>\n",
       "      <th>2012-04</th>\n",
       "      <td>1420</td>\n",
       "    </tr>\n",
       "    <tr>\n",
       "      <th>2012-05</th>\n",
       "      <td>1424</td>\n",
       "    </tr>\n",
       "    <tr>\n",
       "      <th>2012-06</th>\n",
       "      <td>1433</td>\n",
       "    </tr>\n",
       "    <tr>\n",
       "      <th>2012-07</th>\n",
       "      <td>1445</td>\n",
       "    </tr>\n",
       "  </tbody>\n",
       "</table>\n",
       "</div>"
      ],
      "text/plain": [
       "         rendimento médio (R$)\n",
       "data                          \n",
       "2012-03                   1500\n",
       "2012-04                   1420\n",
       "2012-05                   1424\n",
       "2012-06                   1433\n",
       "2012-07                   1445"
      ]
     },
     "execution_count": 4,
     "metadata": {},
     "output_type": "execute_result"
    }
   ],
   "source": [
    "# carregar dados\n",
    "rend = pd.read_excel('dados/rendimentos_pnadc.xlsx')\n",
    "# Ajustar variável de tempo\n",
    "rend['data'] = pd.to_datetime(rend['data'], format='%Y-%m').dt.strftime('%Y-%m')\n",
    "# Indexar\n",
    "rend = rend.set_index('data')\n",
    "print(rend.info())\n",
    "rend.head()"
   ]
  },
  {
   "cell_type": "code",
   "execution_count": 8,
   "metadata": {},
   "outputs": [
    {
     "name": "stdout",
     "output_type": "stream",
     "text": [
      "<class 'pandas.core.frame.DataFrame'>\n",
      "Index: 120 entries, 2012-03 to 2022-02\n",
      "Data columns (total 1 columns):\n",
      " #   Column  Non-Null Count  Dtype  \n",
      "---  ------  --------------  -----  \n",
      " 0   ipca    120 non-null    float64\n",
      "dtypes: float64(1)\n",
      "memory usage: 1.9+ KB\n"
     ]
    },
    {
     "data": {
      "text/html": [
       "<div>\n",
       "<style scoped>\n",
       "    .dataframe tbody tr th:only-of-type {\n",
       "        vertical-align: middle;\n",
       "    }\n",
       "\n",
       "    .dataframe tbody tr th {\n",
       "        vertical-align: top;\n",
       "    }\n",
       "\n",
       "    .dataframe thead th {\n",
       "        text-align: right;\n",
       "    }\n",
       "</style>\n",
       "<table border=\"1\" class=\"dataframe\">\n",
       "  <thead>\n",
       "    <tr style=\"text-align: right;\">\n",
       "      <th></th>\n",
       "      <th>ipca</th>\n",
       "    </tr>\n",
       "    <tr>\n",
       "      <th>periodo</th>\n",
       "      <th></th>\n",
       "    </tr>\n",
       "  </thead>\n",
       "  <tbody>\n",
       "    <tr>\n",
       "      <th>2021-10</th>\n",
       "      <td>1.032687</td>\n",
       "    </tr>\n",
       "    <tr>\n",
       "      <th>2021-11</th>\n",
       "      <td>1.022969</td>\n",
       "    </tr>\n",
       "    <tr>\n",
       "      <th>2021-12</th>\n",
       "      <td>1.015555</td>\n",
       "    </tr>\n",
       "    <tr>\n",
       "      <th>2022-01</th>\n",
       "      <td>1.010101</td>\n",
       "    </tr>\n",
       "    <tr>\n",
       "      <th>2022-02</th>\n",
       "      <td>1.000000</td>\n",
       "    </tr>\n",
       "  </tbody>\n",
       "</table>\n",
       "</div>"
      ],
      "text/plain": [
       "             ipca\n",
       "periodo          \n",
       "2021-10  1.032687\n",
       "2021-11  1.022969\n",
       "2021-12  1.015555\n",
       "2022-01  1.010101\n",
       "2022-02  1.000000"
      ]
     },
     "execution_count": 8,
     "metadata": {},
     "output_type": "execute_result"
    }
   ],
   "source": [
    "# carregar dados de ipca\n",
    "ipca = pd.read_excel('dados/ipca.xlsx')\n",
    "# Converter variavel de período para 'datatime'\n",
    "ipca['periodo'] = pd.to_datetime(ipca['periodo'], format='%Y-%m').dt.strftime('%Y-%m')\n",
    "# Definir informação de tempo como indice do DF\n",
    "ipca = ipca.set_index('periodo')\n",
    "# Filtar período\n",
    "ipca = ipca[\"2012-03\" : \"2022-02\"]\n",
    "# Alterar base\n",
    "ipca_atual = ipca.iloc[ipca.shape[0]-1] / ipca\n",
    "ipca_atual.info()\n",
    "ipca_atual.tail()"
   ]
  },
  {
   "cell_type": "code",
   "execution_count": 11,
   "metadata": {},
   "outputs": [
    {
     "data": {
      "image/png": "[encoded data removed]",
      "text/plain": [
       "<Figure size 720x432 with 1 Axes>"
      ]
     },
     "metadata": {
      "needs_background": "light"
     },
     "output_type": "display_data"
    }
   ],
   "source": [
    "# Calcular rendimento real\n",
    "rend['rendimento real médio (R$)'] = rend['rendimento médio (R$)'] * ipca_atual['ipca']\n",
    "\n",
    "# Plotar dos dados de rendimento real\n",
    "fig, ax = plt.subplots(figsize=(10,6))\n",
    "ax = rend['rendimento real médio (R$)'].plot(color='blue')\n",
    "# Especificar título para o eixo y (PIB)\n",
    "ax.set_title('Rendimento real médio do trabalho (R$) (2012-2022)')\n",
    "# Especificar um tótulo para o eixo x\n",
    "ax.set_xlabel('data')\n",
    "# Especificar um tótulo para o eixo y (PIB)\n",
    "ax.set_ylabel('R$/ mês')\n",
    "# Mostrar gráfico\n",
    "plt.show()"
   ]
  },
  {
   "cell_type": "code",
   "execution_count": 12,
   "metadata": {},
   "outputs": [
    {
     "data": {
      "text/plain": [
       "count     120.000000\n",
       "mean     2720.243680\n",
       "std       133.490327\n",
       "min      2478.652881\n",
       "25%      2644.934272\n",
       "50%      2691.303794\n",
       "75%      2751.418865\n",
       "max      3097.880979\n",
       "Name: rendimento real médio (R$), dtype: float64"
      ]
     },
     "execution_count": 12,
     "metadata": {},
     "output_type": "execute_result"
    }
   ],
   "source": [
    "# Sumário estatístico com o método 'describe'\n",
    "rend['rendimento real médio (R$)'].describe()"
   ]
  },
  {
   "cell_type": "markdown",
   "metadata": {},
   "source": [
    "Na análise do grafico percebemos um forte comportamento sazonal desta série. Ao longo da análise vamos lidar melhor com esta característica."
   ]
  },
  {
   "cell_type": "markdown",
   "metadata": {},
   "source": [
    "## Autocorrelação\n",
    "\n",
    "O coeficiente de correlação entre dois valores numa série temporal é dado pela **função de autocorrelação (FAC ou ACF - autocorrelation function)**. O FAC é uma maneira de medir a relação linear entre uma observação no tempo $t$ e as observações nos tempos anteriores.\n",
    "\n",
    "A autocorrelação de defasagem $k$ é a correlação entre valores que estão separados por $k$ períodos de tempo. Assim, a autocorrelação de defasagem 1 (ou seja, k = 1) é a correlação entre valores que estão separados por um período de tempo.\n",
    "\n",
    "A princípio, a correlação entre $y_t$ e $y_{t-k}$ é:\n",
    "\n",
    "$$\n",
    "\\rho_k =\\frac{E\\left[\\left(y_t - \\mu\\right)\\left(y_{t-k} - \\mu\\right)\\right]}{\\sigma_{y_t} \\sigma_{y_{t-k}}}\n",
    "$$\n",
    "\n",
    "\n",
    "### Função de autocorrelação parcial\n",
    "Outra medida de interesse é a associação entre $y_t$ e $y_{t-k}$ \"livre\" da influência linear de valores intermediários, ou seja, \"livre\" dos efeitos de $y_{t-1}, y_{t-2}, \\cdots, y_{t-k-1}$, o que requer uma transformação na série temporal. Para esse caso, calcula-se a função de **autocorrelação parcial (FACP ou PACF - partial autocorrelation function)** sobre a série temporal transformada.\n",
    "\n",
    "Em um modelo autoregressivo, a FACP é mais útil para identificar a ordem do modelo. Especificamente, autocorrelações parciais de amostra que são significativamente diferentes de 0 indicam termos defasados de $y$ que são efetivamente úteis como preditores de $y_t$."
   ]
  },
  {
   "cell_type": "markdown",
   "metadata": {},
   "source": [
    "### statsmodels.tsa\n",
    "\n",
    "O `statsmodels.tsa` contém diversas classes e funções úteis para análise de séries temporais.\n",
    "\n",
    "O `stattools` que pertence ao `statsmodels.tsa` possui diversas funções para calculo de estatísticas e realização de testes como a FAC(acf) e a FACP (pacf), teste de raiz unitária, testes de causalidade de Granger, entre outros.\n",
    "\n",
    "Aqui vamos usar a função `statsmodels.tsa.stattools.acf` para estimar a FAC"
   ]
  },
  {
   "cell_type": "code",
   "execution_count": 21,
   "metadata": {},
   "outputs": [],
   "source": [
    "# Import the acf module and the plot_acf module from statsmodels\n",
    "from statsmodels.tsa.stattools import acf\n",
    "from statsmodels.graphics.tsaplots import plot_acf"
   ]
  },
  {
   "cell_type": "code",
   "execution_count": 22,
   "metadata": {},
   "outputs": [
    {
     "name": "stderr",
     "output_type": "stream",
     "text": [
      "C:\\Users\\vitor\\anaconda3\\lib\\site-packages\\statsmodels\\tsa\\stattools.py:572: FutureWarning: fft=True will become the default in a future version of statsmodels. To suppress this warning, explicitly set fft=False.\n",
      "  FutureWarning\n"
     ]
    }
   ],
   "source": [
    "# Compute the acf array of HRB\n",
    "acf, ci_acf = acf(rend['rendimento real médio (R$)'], alpha=.05)"
   ]
  },
  {
   "cell_type": "code",
   "execution_count": 26,
   "metadata": {},
   "outputs": [
    {
     "name": "stdout",
     "output_type": "stream",
     "text": [
      "<class 'numpy.ndarray'>\n",
      "<class 'numpy.ndarray'>\n"
     ]
    }
   ],
   "source": [
    "print(type(acf))\n",
    "print(type(ci_acf))"
   ]
  },
  {
   "cell_type": "code",
   "execution_count": 27,
   "metadata": {},
   "outputs": [
    {
     "data": {
      "text/plain": [
       "array([[ 1.        ,  1.        ,  1.        ],\n",
       "       [ 0.76311939,  0.58419998,  0.9420388 ],\n",
       "       [ 0.37893286,  0.11569002,  0.6421757 ],\n",
       "       [ 0.05663089, -0.22352987,  0.33679165],\n",
       "       [-0.04420418, -0.32473115,  0.23632279],\n",
       "       [-0.05890163, -0.33965149,  0.22184823],\n",
       "       [-0.07568344, -0.35682861,  0.20546174],\n",
       "       [-0.10507644, -0.38687308,  0.17672019],\n",
       "       [-0.13904475, -0.42209287,  0.14400337],\n",
       "       [-0.08942662, -0.37465293,  0.19579969],\n",
       "       [ 0.19026995, -0.0958525 ,  0.4763924 ],\n",
       "       [ 0.53395574,  0.24381111,  0.82410038],\n",
       "       [ 0.74645453,  0.42639548,  1.06651359],\n",
       "       [ 0.55205501,  0.18042107,  0.92368895],\n",
       "       [ 0.22820013, -0.16881894,  0.6252192 ],\n",
       "       [-0.04299895, -0.44419495,  0.35819704],\n",
       "       [-0.13108526, -0.53242876,  0.27025823],\n",
       "       [-0.14769546, -0.55040721,  0.25501629],\n",
       "       [-0.17019929, -0.57464134,  0.23424276],\n",
       "       [-0.19770052, -0.60442896,  0.20902791],\n",
       "       [-0.22904742, -0.63884059,  0.18074574],\n",
       "       [-0.18454598, -0.59841714,  0.22932517],\n",
       "       [ 0.06844766, -0.34804942,  0.48494475],\n",
       "       [ 0.38024527, -0.03661176,  0.79710229],\n",
       "       [ 0.57406428,  0.14624793,  1.00188063],\n",
       "       [ 0.40873915, -0.04306393,  0.86054224],\n",
       "       [ 0.13472578, -0.32876362,  0.59821518],\n",
       "       [-0.08813096, -0.55287232,  0.3766104 ],\n",
       "       [-0.15364009, -0.61891615,  0.31163597],\n",
       "       [-0.1539121 , -0.62080944,  0.31298523],\n",
       "       [-0.16223887, -0.63075759,  0.30627985],\n",
       "       [-0.18614241, -0.65645614,  0.28417132],\n",
       "       [-0.22411524, -0.69678148,  0.24855101],\n",
       "       [-0.19642657, -0.67248242,  0.27962928],\n",
       "       [ 0.02306014, -0.4555832 ,  0.50170348],\n",
       "       [ 0.29147876, -0.18720015,  0.77015766],\n",
       "       [ 0.45597476, -0.0283526 ,  0.94030212],\n",
       "       [ 0.31252091, -0.18535908,  0.81040089],\n",
       "       [ 0.08026576, -0.42385495,  0.58438647],\n",
       "       [-0.10589122, -0.61042087,  0.39863843],\n",
       "       [-0.1583522 , -0.66359281,  0.34688841]])"
      ]
     },
     "execution_count": 27,
     "metadata": {},
     "output_type": "execute_result"
    }
   ],
   "source": [
    "np.column_stack((acf,ci_acf))"
   ]
  },
  {
   "cell_type": "markdown",
   "metadata": {},
   "source": [
    "A análise de gráficos da FAC são muito úteis na análise de séries temporais univariadas.\n",
    "\n",
    "Vamos plotar o gráfico da FAC usando a função `plot_acf` do `statsmodels.graphics.tsaplots`."
   ]
  },
  {
   "cell_type": "code",
   "execution_count": 29,
   "metadata": {},
   "outputs": [
    {
     "data": {
      "image/png": "[encoded data removed]",
      "text/plain": [
       "<Figure size 432x288 with 1 Axes>"
      ]
     },
     "metadata": {
      "needs_background": "light"
     },
     "output_type": "display_data"
    }
   ],
   "source": [
    "# Plot the acf function\n",
    "plot_acf(rend['rendimento real médio (R$)'], lags=40, alpha=.05)\n",
    "plt.show()"
   ]
  },
  {
   "cell_type": "markdown",
   "metadata": {},
   "source": [
    "Temos nesse gráfico um conjunto de barras e uma área, que lembra um cone, com fundo azul. Este cone representa um intervalo de confiança (aqui definimos o nível de confiança de 95%, com o argumento 'alpha=.05'). Se o ponto de cada barra está fora do cone (na área branca), podemos dizer que, com 95% de probabilidade, o valor $y_{t-k}$ está correlacionado com $y_t$. Se a barra estiver dentro do cone (na área em azul), você pode ignorar esse valor defasado específico, pois provavelmente não é relevante.\n",
    "\n",
    "Neste exemplo, as duas primeiras defasagens são relevates, depois temos como relevantes a 11ª, 12ª, 13ª e 24ª.\n",
    "Isso reflete o forte carater sazonal da série em questão, que fica muito evidente neste gráfico."
   ]
  },
  {
   "cell_type": "code",
   "execution_count": null,
   "metadata": {},
   "outputs": [],
   "source": []
  }
 ],
 "metadata": {
  "kernelspec": {
   "display_name": "Python 3",
   "language": "python",
   "name": "python3"
  },
  "language_info": {
   "codemirror_mode": {
    "name": "ipython",
    "version": 3
   },
   "file_extension": ".py",
   "mimetype": "text/x-python",
   "name": "python",
   "nbconvert_exporter": "python",
   "pygments_lexer": "ipython3",
   "version": "3.7.6"
  }
 },
 "nbformat": 4,
 "nbformat_minor": 4
}
